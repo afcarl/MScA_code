{
 "cells": [
  {
   "cell_type": "markdown",
   "metadata": {},
   "source": [
    "# Lecture 4: Train/Test, Cross-Validation, and Regularization"
   ]
  },
  {
   "cell_type": "markdown",
   "metadata": {},
   "source": [
    "In this notebook, we'll see how to create train/test splits in python.  We'll also see the `GridSearchCV` function, which is a very simple way to do cross-validation to select tuneable parameters."
   ]
  },
  {
   "cell_type": "code",
   "execution_count": 1,
   "metadata": {
    "collapsed": false
   },
   "outputs": [],
   "source": [
    "%matplotlib inline"
   ]
  },
  {
   "cell_type": "code",
   "execution_count": 2,
   "metadata": {
    "collapsed": false
   },
   "outputs": [],
   "source": [
    "import matplotlib.pyplot as plt\n",
    "import seaborn as sns\n",
    "from sklearn.linear_model import LogisticRegression\n",
    "from sklearn.metrics import roc_curve, roc_auc_score\n",
    "# this import is new\n",
    "from sklearn.cross_validation import train_test_split\n",
    "# this import is new\n",
    "from sklearn.grid_search import GridSearchCV\n",
    "import numpy as np\n",
    "import pandas as pd"
   ]
  },
  {
   "cell_type": "markdown",
   "metadata": {},
   "source": [
    "Let's read in the \"Hitters\" dataset from ISLR that has information on baseball players, their stats, and their salaries.  Also, we'll drop any rows with missing values."
   ]
  },
  {
   "cell_type": "code",
   "execution_count": 3,
   "metadata": {
    "collapsed": false
   },
   "outputs": [
    {
     "data": {
      "text/html": [
       "<div>\n",
       "<table border=\"1\" class=\"dataframe\">\n",
       "  <thead>\n",
       "    <tr style=\"text-align: right;\">\n",
       "      <th></th>\n",
       "      <th>AtBat</th>\n",
       "      <th>Hits</th>\n",
       "      <th>HmRun</th>\n",
       "      <th>Runs</th>\n",
       "      <th>RBI</th>\n",
       "      <th>Walks</th>\n",
       "      <th>Years</th>\n",
       "      <th>CAtBat</th>\n",
       "      <th>CHits</th>\n",
       "      <th>CHmRun</th>\n",
       "      <th>CRuns</th>\n",
       "      <th>CRBI</th>\n",
       "      <th>CWalks</th>\n",
       "      <th>League</th>\n",
       "      <th>Division</th>\n",
       "      <th>PutOuts</th>\n",
       "      <th>Assists</th>\n",
       "      <th>Errors</th>\n",
       "      <th>Salary</th>\n",
       "      <th>NewLeague</th>\n",
       "    </tr>\n",
       "  </thead>\n",
       "  <tbody>\n",
       "    <tr>\n",
       "      <th>1</th>\n",
       "      <td>315</td>\n",
       "      <td>81</td>\n",
       "      <td>7</td>\n",
       "      <td>24</td>\n",
       "      <td>38</td>\n",
       "      <td>39</td>\n",
       "      <td>14</td>\n",
       "      <td>3449</td>\n",
       "      <td>835</td>\n",
       "      <td>69</td>\n",
       "      <td>321</td>\n",
       "      <td>414</td>\n",
       "      <td>375</td>\n",
       "      <td>N</td>\n",
       "      <td>W</td>\n",
       "      <td>632</td>\n",
       "      <td>43</td>\n",
       "      <td>10</td>\n",
       "      <td>475.0</td>\n",
       "      <td>N</td>\n",
       "    </tr>\n",
       "    <tr>\n",
       "      <th>2</th>\n",
       "      <td>479</td>\n",
       "      <td>130</td>\n",
       "      <td>18</td>\n",
       "      <td>66</td>\n",
       "      <td>72</td>\n",
       "      <td>76</td>\n",
       "      <td>3</td>\n",
       "      <td>1624</td>\n",
       "      <td>457</td>\n",
       "      <td>63</td>\n",
       "      <td>224</td>\n",
       "      <td>266</td>\n",
       "      <td>263</td>\n",
       "      <td>A</td>\n",
       "      <td>W</td>\n",
       "      <td>880</td>\n",
       "      <td>82</td>\n",
       "      <td>14</td>\n",
       "      <td>480.0</td>\n",
       "      <td>A</td>\n",
       "    </tr>\n",
       "    <tr>\n",
       "      <th>3</th>\n",
       "      <td>496</td>\n",
       "      <td>141</td>\n",
       "      <td>20</td>\n",
       "      <td>65</td>\n",
       "      <td>78</td>\n",
       "      <td>37</td>\n",
       "      <td>11</td>\n",
       "      <td>5628</td>\n",
       "      <td>1575</td>\n",
       "      <td>225</td>\n",
       "      <td>828</td>\n",
       "      <td>838</td>\n",
       "      <td>354</td>\n",
       "      <td>N</td>\n",
       "      <td>E</td>\n",
       "      <td>200</td>\n",
       "      <td>11</td>\n",
       "      <td>3</td>\n",
       "      <td>500.0</td>\n",
       "      <td>N</td>\n",
       "    </tr>\n",
       "    <tr>\n",
       "      <th>4</th>\n",
       "      <td>321</td>\n",
       "      <td>87</td>\n",
       "      <td>10</td>\n",
       "      <td>39</td>\n",
       "      <td>42</td>\n",
       "      <td>30</td>\n",
       "      <td>2</td>\n",
       "      <td>396</td>\n",
       "      <td>101</td>\n",
       "      <td>12</td>\n",
       "      <td>48</td>\n",
       "      <td>46</td>\n",
       "      <td>33</td>\n",
       "      <td>N</td>\n",
       "      <td>E</td>\n",
       "      <td>805</td>\n",
       "      <td>40</td>\n",
       "      <td>4</td>\n",
       "      <td>91.5</td>\n",
       "      <td>N</td>\n",
       "    </tr>\n",
       "    <tr>\n",
       "      <th>5</th>\n",
       "      <td>594</td>\n",
       "      <td>169</td>\n",
       "      <td>4</td>\n",
       "      <td>74</td>\n",
       "      <td>51</td>\n",
       "      <td>35</td>\n",
       "      <td>11</td>\n",
       "      <td>4408</td>\n",
       "      <td>1133</td>\n",
       "      <td>19</td>\n",
       "      <td>501</td>\n",
       "      <td>336</td>\n",
       "      <td>194</td>\n",
       "      <td>A</td>\n",
       "      <td>W</td>\n",
       "      <td>282</td>\n",
       "      <td>421</td>\n",
       "      <td>25</td>\n",
       "      <td>750.0</td>\n",
       "      <td>A</td>\n",
       "    </tr>\n",
       "  </tbody>\n",
       "</table>\n",
       "</div>"
      ],
      "text/plain": [
       "   AtBat  Hits  HmRun  Runs  RBI  Walks  Years  CAtBat  CHits  CHmRun  CRuns  \\\n",
       "1    315    81      7    24   38     39     14    3449    835      69    321   \n",
       "2    479   130     18    66   72     76      3    1624    457      63    224   \n",
       "3    496   141     20    65   78     37     11    5628   1575     225    828   \n",
       "4    321    87     10    39   42     30      2     396    101      12     48   \n",
       "5    594   169      4    74   51     35     11    4408   1133      19    501   \n",
       "\n",
       "   CRBI  CWalks League Division  PutOuts  Assists  Errors  Salary NewLeague  \n",
       "1   414     375      N        W      632       43      10   475.0         N  \n",
       "2   266     263      A        W      880       82      14   480.0         A  \n",
       "3   838     354      N        E      200       11       3   500.0         N  \n",
       "4    46      33      N        E      805       40       4    91.5         N  \n",
       "5   336     194      A        W      282      421      25   750.0         A  "
      ]
     },
     "execution_count": 3,
     "metadata": {},
     "output_type": "execute_result"
    }
   ],
   "source": [
    "hitters = pd.read_csv(\"./hitters.csv\")\n",
    "hitters = hitters.dropna(inplace=False)\n",
    "hitters.head()"
   ]
  },
  {
   "cell_type": "markdown",
   "metadata": {},
   "source": [
    "We'll get rid of a few categorical columns rather than deal with converting them.  Then we'll create a binary variable for whether a player makes more than the median salary."
   ]
  },
  {
   "cell_type": "code",
   "execution_count": 4,
   "metadata": {
    "collapsed": false
   },
   "outputs": [],
   "source": [
    "X = np.array(hitters.drop([\"Salary\", \"League\", \"Division\", \"NewLeague\"], axis=1))\n",
    "y = (hitters[\"Salary\"] >= np.median(hitters[\"Salary\"])).astype(\"int\")"
   ]
  },
  {
   "cell_type": "markdown",
   "metadata": {},
   "source": [
    "Creating a training/testing split is extremely simple:"
   ]
  },
  {
   "cell_type": "code",
   "execution_count": 28,
   "metadata": {
    "collapsed": false
   },
   "outputs": [],
   "source": [
    "X_train, X_test, y_train, y_test = train_test_split(X, y, train_size=0.7, random_state=10)"
   ]
  },
  {
   "cell_type": "code",
   "execution_count": 29,
   "metadata": {
    "collapsed": false
   },
   "outputs": [
    {
     "name": "stdout",
     "output_type": "stream",
     "text": [
      "(184, 16)\n",
      "(79, 16)\n"
     ]
    }
   ],
   "source": [
    "print X_train.shape\n",
    "print X_test.shape"
   ]
  },
  {
   "cell_type": "markdown",
   "metadata": {},
   "source": [
    "Next, we'll fit a logistic regression model to the training data and score the test data:"
   ]
  },
  {
   "cell_type": "code",
   "execution_count": 30,
   "metadata": {
    "collapsed": false
   },
   "outputs": [],
   "source": [
    "logit = LogisticRegression(penalty=\"l1\", C=1e5)\n",
    "logit.fit(X_train, y_train)\n",
    "\n",
    "test_preds = logit.predict_proba(X_test)[:, 1]"
   ]
  },
  {
   "cell_type": "code",
   "execution_count": 31,
   "metadata": {
    "collapsed": false
   },
   "outputs": [],
   "source": [
    "fpr, tpr, thresholds = roc_curve(y_test, test_preds)"
   ]
  },
  {
   "cell_type": "code",
   "execution_count": 32,
   "metadata": {
    "collapsed": false
   },
   "outputs": [
    {
     "data": {
      "image/png": "[encoded data removed]",
      "text/plain": [
       "<matplotlib.figure.Figure at 0x1075578d0>"
      ]
     },
     "metadata": {},
     "output_type": "display_data"
    }
   ],
   "source": [
    "# we want to draw the random baseline ROC line too\n",
    "fpr_rand = tpr_rand = np.linspace(0, 1, 10)\n",
    "\n",
    "plt.plot(fpr, tpr)\n",
    "plt.plot(fpr_rand, tpr_rand, linestyle='--')\n",
    "plt.show()"
   ]
  },
  {
   "cell_type": "code",
   "execution_count": 33,
   "metadata": {
    "collapsed": false
   },
   "outputs": [
    {
     "data": {
      "text/plain": [
       "0.88223938223938247"
      ]
     },
     "execution_count": 33,
     "metadata": {},
     "output_type": "execute_result"
    }
   ],
   "source": [
    "roc_auc_score(y_test, test_preds)"
   ]
  },
  {
   "cell_type": "markdown",
   "metadata": {},
   "source": [
    "If we re-run the train/test split, we'll see the variability in this estimate."
   ]
  },
  {
   "cell_type": "markdown",
   "metadata": {},
   "source": [
    "We can use the test set (which, in this case, should really be called a validation set) to choose the best value of the tuneable parameter `C` of the logisitc regression, which is the inverse of $\\lambda$, the regularization strength."
   ]
  },
  {
   "cell_type": "code",
   "execution_count": 34,
   "metadata": {
    "collapsed": false
   },
   "outputs": [],
   "source": [
    "# create equally space values beteen 10^-10 and 10^10\n",
    "c_vals = np.logspace(-10, 10, 20)\n",
    "\n",
    "aucs = []\n",
    "for c_val in c_vals:\n",
    "    logit = LogisticRegression(C=c_val)\n",
    "    logit.fit(X_train, y_train)\n",
    "\n",
    "    test_preds = logit.predict_proba(X_test)[:, 1]\n",
    "    aucs.append(roc_auc_score(y_test, test_preds))"
   ]
  },
  {
   "cell_type": "code",
   "execution_count": 35,
   "metadata": {
    "collapsed": false
   },
   "outputs": [
    {
     "data": {
      "text/plain": [
       "[0.84877734877734889,\n",
       " 0.84877734877734889,\n",
       " 0.84555984555984565,\n",
       " 0.8288288288288288,\n",
       " 0.82303732303732302,\n",
       " 0.87451737451737455,\n",
       " 0.88545688545688539,\n",
       " 0.85135135135135143,\n",
       " 0.84555984555984554,\n",
       " 0.86615186615186612,\n",
       " 0.87644787644787636,\n",
       " 0.88223938223938214,\n",
       " 0.87773487773487779,\n",
       " 0.8783783783783784,\n",
       " 0.87966537966537972,\n",
       " 0.88288288288288308,\n",
       " 0.87773487773487768,\n",
       " 0.8783783783783784,\n",
       " 0.88352638352638357,\n",
       " 0.88352638352638357]"
      ]
     },
     "execution_count": 35,
     "metadata": {},
     "output_type": "execute_result"
    }
   ],
   "source": [
    "aucs"
   ]
  },
  {
   "cell_type": "code",
   "execution_count": 36,
   "metadata": {
    "collapsed": false
   },
   "outputs": [
    {
     "data": {
      "image/png": "[encoded data removed]",
      "text/plain": [
       "<matplotlib.figure.Figure at 0x10748f6d0>"
      ]
     },
     "metadata": {},
     "output_type": "display_data"
    }
   ],
   "source": [
    "plt.plot(np.log10(c_vals), aucs)\n",
    "plt.xlabel(\"C\")\n",
    "plt.ylabel(\"Test AUC\")\n",
    "plt.show()"
   ]
  },
  {
   "cell_type": "markdown",
   "metadata": {},
   "source": [
    "Instead of using a train/test split, scikit-learn has a really nice way to use cross-validation to choose the tuneable parameters of a model.  First, we make a dictionary, where the key is the name of the parameter we want to tune (it has to match the name of the parameter in the model), and the values are the values we want to try:"
   ]
  },
  {
   "cell_type": "code",
   "execution_count": 37,
   "metadata": {
    "collapsed": false
   },
   "outputs": [],
   "source": [
    "param_grid = {\"C\": np.logspace(2, 8, 50)}"
   ]
  },
  {
   "cell_type": "markdown",
   "metadata": {},
   "source": [
    "Then, we pass in the model we want to fit and the grid.  The option 'n_jobs' allows us to split the cross-validation over multiple cores of your computer, and `refit` tells it to fit the best performing model on the full dataset once it's done."
   ]
  },
  {
   "cell_type": "code",
   "execution_count": 38,
   "metadata": {
    "collapsed": false
   },
   "outputs": [
    {
     "name": "stdout",
     "output_type": "stream",
     "text": [
      "Fitting 10 folds for each of 50 candidates, totalling 500 fits\n"
     ]
    },
    {
     "name": "stderr",
     "output_type": "stream",
     "text": [
      "[Parallel(n_jobs=4)]: Done   1 jobs       | elapsed:    0.1s\n",
      "[Parallel(n_jobs=4)]: Done  50 jobs       | elapsed:    0.9s\n",
      "[Parallel(n_jobs=4)]: Done 200 jobs       | elapsed:    2.3s\n",
      "[Parallel(n_jobs=4)]: Done 450 jobs       | elapsed:    4.8s\n",
      "[Parallel(n_jobs=4)]: Done 494 out of 500 | elapsed:    5.3s remaining:    0.1s\n",
      "[Parallel(n_jobs=4)]: Done 500 out of 500 | elapsed:    5.3s finished\n"
     ]
    },
    {
     "data": {
      "text/plain": [
       "GridSearchCV(cv=10, error_score='raise',\n",
       "       estimator=LogisticRegression(C=10000000000.0, class_weight=None, dual=False,\n",
       "          fit_intercept=True, intercept_scaling=1, max_iter=100,\n",
       "          multi_class='ovr', penalty='l2', random_state=None,\n",
       "          solver='liblinear', tol=0.0001, verbose=0),\n",
       "       fit_params={}, iid=True, loss_func=None, n_jobs=4,\n",
       "       param_grid={'C': array([  1.00000e+02,   1.32571e+02,   1.75751e+02,   2.32995e+02,\n",
       "         3.08884e+02,   4.09492e+02,   5.42868e+02,   7.19686e+02,\n",
       "         9.54095e+02,   1.26486e+03,   1.67683e+03,   2.22300e+03,\n",
       "         2.94705e+03,   3.90694e+03,   5.17947e+03,   6.86649e+03,\n",
       "         9.1029...    2.44205e+07,   3.23746e+07,   4.29193e+07,   5.68987e+07,\n",
       "         7.54312e+07,   1.00000e+08])},\n",
       "       pre_dispatch='2*n_jobs', refit=True, score_func=None, scoring=None,\n",
       "       verbose=True)"
      ]
     },
     "execution_count": 38,
     "metadata": {},
     "output_type": "execute_result"
    }
   ],
   "source": [
    "cv = GridSearchCV(logit, param_grid, cv=10, n_jobs=4, refit=True, verbose=True)\n",
    "cv.fit(X_train, y_train)"
   ]
  },
  {
   "cell_type": "markdown",
   "metadata": {},
   "source": [
    "We can see the best values and the grid scores:"
   ]
  },
  {
   "cell_type": "code",
   "execution_count": 39,
   "metadata": {
    "collapsed": false
   },
   "outputs": [
    {
     "data": {
      "text/plain": [
       "LogisticRegression(C=308.88435964774817, class_weight=None, dual=False,\n",
       "          fit_intercept=True, intercept_scaling=1, max_iter=100,\n",
       "          multi_class='ovr', penalty='l2', random_state=None,\n",
       "          solver='liblinear', tol=0.0001, verbose=0)"
      ]
     },
     "execution_count": 39,
     "metadata": {},
     "output_type": "execute_result"
    }
   ],
   "source": [
    "cv.best_estimator_"
   ]
  },
  {
   "cell_type": "code",
   "execution_count": 40,
   "metadata": {
    "collapsed": false
   },
   "outputs": [
    {
     "data": {
      "text/plain": [
       "{'C': 308.88435964774817}"
      ]
     },
     "execution_count": 40,
     "metadata": {},
     "output_type": "execute_result"
    }
   ],
   "source": [
    "cv.best_params_"
   ]
  },
  {
   "cell_type": "markdown",
   "metadata": {},
   "source": [
    "Let's see what value of $\\lambda$ corresponds to the best C:"
   ]
  },
  {
   "cell_type": "code",
   "execution_count": 41,
   "metadata": {
    "collapsed": false
   },
   "outputs": [
    {
     "data": {
      "text/plain": [
       "-2.489795918367347"
      ]
     },
     "execution_count": 41,
     "metadata": {},
     "output_type": "execute_result"
    }
   ],
   "source": [
    "np.log10(1.0/cv.best_params_['C'])"
   ]
  },
  {
   "cell_type": "code",
   "execution_count": 42,
   "metadata": {
    "collapsed": false
   },
   "outputs": [
    {
     "data": {
      "text/plain": [
       "0.79891304347826086"
      ]
     },
     "execution_count": 42,
     "metadata": {},
     "output_type": "execute_result"
    }
   ],
   "source": [
    "cv.best_score_"
   ]
  },
  {
   "cell_type": "code",
   "execution_count": 43,
   "metadata": {
    "collapsed": false
   },
   "outputs": [
    {
     "data": {
      "text/plain": [
       "[mean: 0.78261, std: 0.08213, params: {'C': 100.0},\n",
       " mean: 0.78261, std: 0.07424, params: {'C': 132.57113655901094},\n",
       " mean: 0.78804, std: 0.08342, params: {'C': 175.75106248547911},\n",
       " mean: 0.78804, std: 0.07258, params: {'C': 232.99518105153717},\n",
       " mean: 0.79891, std: 0.06717, params: {'C': 308.88435964774817},\n",
       " mean: 0.79348, std: 0.07665, params: {'C': 409.49150623804275},\n",
       " mean: 0.78804, std: 0.08342, params: {'C': 542.86754393238596},\n",
       " mean: 0.78261, std: 0.08213, params: {'C': 719.68567300115217},\n",
       " mean: 0.78261, std: 0.06707, params: {'C': 954.09547634999444},\n",
       " mean: 0.77717, std: 0.07236, params: {'C': 1264.8552168552958},\n",
       " mean: 0.78804, std: 0.07963, params: {'C': 1676.8329368110083},\n",
       " mean: 0.78804, std: 0.07713, params: {'C': 2222.9964825261955},\n",
       " mean: 0.78804, std: 0.08342, params: {'C': 2947.0517025518097},\n",
       " mean: 0.77717, std: 0.07236, params: {'C': 3906.9399370546171},\n",
       " mean: 0.79348, std: 0.06977, params: {'C': 5179.4746792312126},\n",
       " mean: 0.78261, std: 0.08213, params: {'C': 6866.488450042998},\n",
       " mean: 0.78804, std: 0.06700, params: {'C': 9102.981779915217},\n",
       " mean: 0.78261, std: 0.07424, params: {'C': 12067.92640639329},\n",
       " mean: 0.78804, std: 0.08342, params: {'C': 15998.587196060573},\n",
       " mean: 0.78261, std: 0.07424, params: {'C': 21209.508879201927},\n",
       " mean: 0.78261, std: 0.06707, params: {'C': 28117.68697974231},\n",
       " mean: 0.78804, std: 0.08342, params: {'C': 37275.937203149377},\n",
       " mean: 0.78261, std: 0.07424, params: {'C': 49417.13361323838},\n",
       " mean: 0.78804, std: 0.08342, params: {'C': 65512.855685955088},\n",
       " mean: 0.78804, std: 0.06866, params: {'C': 86851.137375135208},\n",
       " mean: 0.79348, std: 0.08432, params: {'C': 115139.53993264481},\n",
       " mean: 0.78261, std: 0.07424, params: {'C': 152641.79671752334},\n",
       " mean: 0.78804, std: 0.06700, params: {'C': 202358.96477251555},\n",
       " mean: 0.78804, std: 0.06866, params: {'C': 268269.57952797273},\n",
       " mean: 0.78804, std: 0.06700, params: {'C': 355648.03062231286},\n",
       " mean: 0.78261, std: 0.06707, params: {'C': 471486.63634573895},\n",
       " mean: 0.78804, std: 0.08342, params: {'C': 625055.19252739765},\n",
       " mean: 0.79348, std: 0.08432, params: {'C': 828642.77285468427},\n",
       " mean: 0.78261, std: 0.07424, params: {'C': 1098541.1419875573},\n",
       " mean: 0.78261, std: 0.08213, params: {'C': 1456348.4775012443},\n",
       " mean: 0.79348, std: 0.06812, params: {'C': 1930697.7288832497},\n",
       " mean: 0.77717, std: 0.07236, params: {'C': 2559547.9226995334},\n",
       " mean: 0.78804, std: 0.07713, params: {'C': 3393221.7718953295},\n",
       " mean: 0.77174, std: 0.07325, params: {'C': 4498432.668969444},\n",
       " mean: 0.78261, std: 0.08213, params: {'C': 5963623.3165946361},\n",
       " mean: 0.79348, std: 0.08432, params: {'C': 7906043.2109077014},\n",
       " mean: 0.78261, std: 0.06707, params: {'C': 10481131.341546852},\n",
       " mean: 0.78804, std: 0.07566, params: {'C': 13894954.94373136},\n",
       " mean: 0.78261, std: 0.06707, params: {'C': 18420699.693267163},\n",
       " mean: 0.77717, std: 0.07236, params: {'C': 24420530.945486497},\n",
       " mean: 0.78261, std: 0.08213, params: {'C': 32374575.428176399},\n",
       " mean: 0.78804, std: 0.06700, params: {'C': 42919342.601287782},\n",
       " mean: 0.77717, std: 0.07236, params: {'C': 56898660.290182933},\n",
       " mean: 0.78804, std: 0.07713, params: {'C': 75431200.633546069},\n",
       " mean: 0.79348, std: 0.07517, params: {'C': 100000000.0}]"
      ]
     },
     "execution_count": 43,
     "metadata": {},
     "output_type": "execute_result"
    }
   ],
   "source": [
    "cv.grid_scores_"
   ]
  },
  {
   "cell_type": "code",
   "execution_count": 47,
   "metadata": {
    "collapsed": false
   },
   "outputs": [
    {
     "data": {
      "text/plain": [
       "array([ 0.1058921 ,  0.09521469,  0.92221402,  0.03091214,  0.54432825,\n",
       "        0.8574301 ,  0.20627015,  0.998401  ,  0.04649464,  0.87548904,\n",
       "        0.90846002,  0.08408419,  0.90021089,  0.21015627,  0.02795351,\n",
       "        0.11244165,  0.74070274,  0.10000443,  0.42943242,  0.12369961,\n",
       "        0.56712817,  0.99835125,  0.08436015,  0.03854041,  0.1818859 ,\n",
       "        0.04957142,  0.84504173,  0.058083  ,  0.15545558,  0.03696503,\n",
       "        0.98835756,  0.99651103,  0.49502885,  0.32630335,  0.99904655,\n",
       "        0.03939553,  0.99987517,  0.997808  ,  0.98912745,  0.96263556,\n",
       "        0.03490981,  0.26223693,  0.99785815,  0.3864221 ,  0.17298222,\n",
       "        0.05633491,  0.47076084,  0.15563533,  0.72564058,  0.77145821,\n",
       "        0.99349821,  0.69842306,  0.18756576,  0.98208666,  0.67214788,\n",
       "        0.78876011,  0.81624423,  0.15862157,  0.9885641 ,  0.35947021,\n",
       "        0.19778698,  0.03787933,  0.74477264,  0.02300695,  0.32158159,\n",
       "        0.18057206,  0.10100127,  0.55000418,  0.82672523,  0.07532718,\n",
       "        0.97575697,  0.02906368,  0.02567223,  0.10672082,  0.6185234 ,\n",
       "        0.54363124,  0.99859451,  0.08286133,  0.0536742 ])"
      ]
     },
     "execution_count": 47,
     "metadata": {},
     "output_type": "execute_result"
    }
   ],
   "source": [
    "test_preds = cv.best_estimator_.predict_proba(X_test)[:, 1]\n",
    "test_preds"
   ]
  },
  {
   "cell_type": "code",
   "execution_count": 46,
   "metadata": {
    "collapsed": false
   },
   "outputs": [
    {
     "data": {
      "text/plain": [
       "0.8835263835263838"
      ]
     },
     "execution_count": 46,
     "metadata": {},
     "output_type": "execute_result"
    }
   ],
   "source": [
    "roc_auc_score(y_test, test_preds)"
   ]
  },
  {
   "cell_type": "code",
   "execution_count": null,
   "metadata": {
    "collapsed": true
   },
   "outputs": [],
   "source": []
  }
 ],
 "metadata": {
  "kernelspec": {
   "display_name": "Python 2",
   "language": "python",
   "name": "python2"
  },
  "language_info": {
   "codemirror_mode": {
    "name": "ipython",
    "version": 2
   },
   "file_extension": ".py",
   "mimetype": "text/x-python",
   "name": "python",
   "nbconvert_exporter": "python",
   "pygments_lexer": "ipython2",
   "version": "2.7.6"
  }
 },
 "nbformat": 4,
 "nbformat_minor": 0
}
