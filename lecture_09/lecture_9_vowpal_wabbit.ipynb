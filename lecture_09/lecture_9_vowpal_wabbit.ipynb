{
 "cells": [
  {
   "cell_type": "markdown",
   "metadata": {},
   "source": [
    "# Lecture 9: Stochastic Gradient Descent and Vowpal Wabbit"
   ]
  },
  {
   "cell_type": "markdown",
   "metadata": {},
   "source": [
    "The first thing to note is that this is **NOT** a regular ipython notebook.  It uses the bash kernel that you need to install from [here](https://github.com/takluyver/bash_kernel) to execute normal linux commands rather than just regular python.  You need ipython version 3 for it to work.  It's pretty sweet though--you can switch back and forth between executing linux commands and python commands by going to the \"Change kernel\" option in the \"Kernel\" menu above."
   ]
  },
  {
   "cell_type": "markdown",
   "metadata": {},
   "source": [
    "We'll be looking at a dataset of display ad click logs from online display advertising from Criteo.  It's a much larger version of a [Kaggle competition dataset](https://www.kaggle.com/c/criteo-display-ad-challenge).  The dataset is a terabyte and has records for 24 days, but we'll only be looking at a single day of data.  You can get the data [here](http://labs.criteo.com/downloads/download-terabyte-click-logs/).  There's also a nice [blog post](http://fastml.com/vowpal-wabbit-eats-big-data-from-the-criteo-competition-for-breakfast/) about using VW in the Criteo contest."
   ]
  },
  {
   "cell_type": "markdown",
   "metadata": {},
   "source": [
    "Let's see how large the file is:"
   ]
  },
  {
   "cell_type": "code",
   "execution_count": null,
   "metadata": {
    "collapsed": false
   },
   "outputs": [],
   "source": [
    "ls -lh data/day_0"
   ]
  },
  {
   "cell_type": "markdown",
   "metadata": {},
   "source": [
    "46 GB is pretty gigantic, and clearly to large to load into my laptop's RAM.  So VW is a good option here.  Let's see how many lines (examples there are in the file):"
   ]
  },
  {
   "cell_type": "code",
   "execution_count": null,
   "metadata": {
    "collapsed": false
   },
   "outputs": [],
   "source": [
    "# THIS WILL TAKE A LONG TIME\n",
    "wc -l data/day_0\n",
    "#195,841,983"
   ]
  },
  {
   "cell_type": "markdown",
   "metadata": {},
   "source": [
    "Let's take a look at the first two lines of the file:"
   ]
  },
  {
   "cell_type": "code",
   "execution_count": 1,
   "metadata": {
    "collapsed": false
   },
   "outputs": [
    {
     "name": "stdout",
     "output_type": "stream",
     "text": [
      "1\t5\t110\t\t16\t\t1\t0\t14\t7\t1\t\t306\t\t62770d79\te21f5d58\tafea442f\t945c7fcf\t38b02748\t6fcd6dcb\t3580aa21\t28808903\t46dedfa6\t2e027dc1\t0c7c4231\t95981d1f\t00c5ffb7\tbe4ee537\t8a0b74cc\t4cdc3efa\td20856aa\tb8170bba\t9512c20b\tc38e2f28\t14f65a5d\t25b1b089\td7c1fc0b\t7caf609c\t30436bfc\ted10571d\r\n",
      "0\t32\t3\t5\t\t1\t0\t0\t61\t5\t0\t1\t3157\t5\te5f3fd8d\ta0aaffa6\t6faa15d5\tda8a3421\t3cd69f23\t6fcd6dcb\tab16ed81\t43426c29\t1df5e154\t7de9c0a9\t6652dc64\t99eb4e27\t00c5ffb7\tbe4ee537\tf3bbfe99\t4cdc3efa\td20856aa\ta1eb1511\t9512c20b\tfebfd863\ta3323ca1\tc8e1ee56\t1752e9e8\t75350c8a\t991321ea\tb757e957\r\n"
     ]
    }
   ],
   "source": [
    "head -2 data/day_0"
   ]
  },
  {
   "cell_type": "markdown",
   "metadata": {},
   "source": [
    "Here's a description of the dataset from the Criteo website:\n",
    "\n",
    "The columns are tab separated with the following schema:<br>\n",
    "&lt;label&gt; &lt;integer feature 1&gt; … &lt;integer feature 13&gt; &lt;categorical feature 1&gt; … &lt;categorical feature 26&gt;\n",
    "When a value is missing, the field is just empty.\n",
    "\n",
    "So the first field is the target value (a 1 when someone clicked on the ad, a 0 when the didn't).  Then we have numeric features, and a bunch of categorical features which we would normally need to expand out into dummies."
   ]
  },
  {
   "cell_type": "markdown",
   "metadata": {},
   "source": [
    "We'll be using vowpal wabbit, which you can get from github [here](https://github.com/JohnLangford/vowpal_wabbit).  We'll be working with version 7.7, though I doubt the particular version is crucial.  Windows installation instructions here [here](https://github.com/JohnLangford/vowpal_wabbit/blob/master/README.windows.txt), though I've never tried to get it working on Windows, so YMMV."
   ]
  },
  {
   "cell_type": "code",
   "execution_count": 2,
   "metadata": {
    "collapsed": false
   },
   "outputs": [
    {
     "name": "stdout",
     "output_type": "stream",
     "text": [
      "7.7.0\r\n"
     ]
    }
   ],
   "source": [
    "vw --version"
   ]
  },
  {
   "cell_type": "markdown",
   "metadata": {},
   "source": [
    "VW has a huge array of commandline options, which you can read about from the help menu:"
   ]
  },
  {
   "cell_type": "code",
   "execution_count": 3,
   "metadata": {
    "collapsed": false
   },
   "outputs": [
    {
     "name": "stdout",
     "output_type": "stream",
     "text": [
      "Num weight bits = 18\r\n",
      "learning rate = 0.5\r\n",
      "initial_t = 0\r\n",
      "power_t = 0.5\r\n",
      "using no cache\r\n",
      "Reading datafile = \r\n",
      "num sources = 1\r\n",
      "\r\n",
      "\r\n",
      "VW options:\r\n",
      "  --random_seed arg               seed random number generator\r\n",
      "  --ring_size arg                 size of example ring\r\n",
      "\r\n",
      "Update options:\r\n",
      "  -l [ --learning_rate ] arg Set learning rate\r\n",
      "  --power_t arg              t power value\r\n",
      "  --decay_learning_rate arg  Set Decay factor for learning_rate between passes\r\n",
      "  --initial_t arg            initial t value\r\n",
      "  --feature_mask arg         Use existing regressor to determine which \r\n",
      "                             parameters may be updated.  If no \r\n",
      "                             initial_regressor given, also used for initial \r\n",
      "                             weights.\r\n",
      "\r\n",
      "Weight options:\r\n",
      "  -i [ --initial_regressor ] arg  Initial regressor(s)\r\n",
      "  --initial_weight arg            Set all weights to an initial value of 1.\r\n",
      "  --random_weights arg            make initial weights random\r\n",
      "  --input_feature_regularizer arg Per feature regularization input file\r\n",
      "\r\n",
      "Active Learning options:\r\n",
      "  --active_learning       active learning mode\r\n",
      "  --active_simulation     active learning simulation mode\r\n",
      "  --active_mellowness arg active learning mellowness parameter c_0. Default 8\r\n",
      "\r\n",
      "Parallelization options:\r\n",
      "  --span_server arg     Location of server for setting up spanning tree\r\n",
      "  --unique_id arg       unique id used for cluster parallel jobs\r\n",
      "  --total arg           total number of nodes used in cluster parallel job\r\n",
      "  --node arg            node number in cluster parallel job\r\n",
      "\r\n",
      "Other options:\r\n",
      "  -B [ --bootstrap ] arg bootstrap mode with k rounds by online importance \r\n",
      "                         resampling\r\n",
      "\r\n",
      "Diagnostic options:\r\n",
      "  --version             Version information\r\n",
      "  -a [ --audit ]        print weights of features\r\n",
      "  -P [ --progress ] arg Progress update frequency. int: additive, float: \r\n",
      "                        multiplicative\r\n",
      "  --quiet               Don't output disgnostics and progress updates\r\n",
      "  -h [ --help ]         Look here: http://hunch.net/~vw/ and click on Tutorial.\r\n",
      "\r\n",
      "Feature options:\r\n",
      "  --hash arg                 how to hash the features. Available options: \r\n",
      "                             strings, all\r\n",
      "  --ignore arg               ignore namespaces beginning with character <arg>\r\n",
      "  --keep arg                 keep namespaces beginning with character <arg>\r\n",
      "  -b [ --bit_precision ] arg number of bits in the feature table\r\n",
      "  --noconstant               Don't add a constant feature\r\n",
      "  -C [ --constant ] arg      Set initial value of constant\r\n",
      "  --ngram arg                Generate N grams. To generate N grams for a single\r\n",
      "                             namespace 'foo', arg should be fN.\r\n",
      "  --skips arg                Generate skips in N grams. This in conjunction \r\n",
      "                             with the ngram tag can be used to generate \r\n",
      "                             generalized n-skip-k-gram. To generate n-skips for\r\n",
      "                             a single namespace 'foo', arg should be fn.\r\n",
      "  --affix arg                generate prefixes/suffixes of features; argument \r\n",
      "                             '+2a,-3b,+1' means generate 2-char prefixes for \r\n",
      "                             namespace a, 3-char suffixes for b and 1 char \r\n",
      "                             prefixes for default namespace\r\n",
      "  --spelling arg             compute spelling features for a give namespace \r\n",
      "                             (use '_' for default namespace)\r\n",
      "  -q [ --quadratic ] arg     Create and use quadratic features\r\n",
      "  --q: arg                   : corresponds to a wildcard for all printable \r\n",
      "                             characters\r\n",
      "  --cubic arg                Create and use cubic features\r\n",
      "\r\n",
      "Example options:\r\n",
      "  -t [ --testonly ]              Ignore label information and just test\r\n",
      "  --holdout_off                  no holdout data in multiple passes\r\n",
      "  --holdout_period arg           holdout period for test only, default 10\r\n",
      "  --holdout_after arg            holdout after n training examples, default off\r\n",
      "                                 (disables holdout_period)\r\n",
      "  --early_terminate arg          Specify the number of passes tolerated when \r\n",
      "                                 holdout loss doesn't decrease before early \r\n",
      "                                 termination, default is 3\r\n",
      "  --passes arg                   Number of Training Passes\r\n",
      "  --initial_pass_length arg      initial number of examples per pass\r\n",
      "  --examples arg                 number of examples to parse\r\n",
      "  --min_prediction arg           Smallest prediction to output\r\n",
      "  --max_prediction arg           Largest prediction to output\r\n",
      "  --sort_features                turn this on to disregard order in which \r\n",
      "                                 features have been defined. This will lead to \r\n",
      "                                 smaller cache sizes\r\n",
      "  --loss_function arg (=squared) Specify the loss function to be used, uses \r\n",
      "                                 squared by default. Currently available ones \r\n",
      "                                 are squared, classic, hinge, logistic and \r\n",
      "                                 quantile.\r\n",
      "  --quantile_tau arg (=0.5)      Parameter \\tau associated with Quantile loss. \r\n",
      "                                 Defaults to 0.5\r\n",
      "  --l1 arg                       l_1 lambda\r\n",
      "  --l2 arg                       l_2 lambda\r\n",
      "\r\n",
      "base algorithms (these are exclusive):\r\n",
      "  --sgd                  use regular stochastic gradient descent update.\r\n",
      "  --adaptive             use adaptive, individual learning rates.\r\n",
      "  --invariant            use safe/importance aware updates.\r\n",
      "  --normalized           use per feature normalized updates\r\n",
      "  --exact_adaptive_norm  use current default invariant normalized adaptive \r\n",
      "                         update rule\r\n",
      "  --bfgs                 use bfgs optimization\r\n",
      "  --lda arg              Run lda with <int> topics\r\n",
      "  --rank arg             rank for matrix factorization.\r\n",
      "  --noop                 do no learning\r\n",
      "  --print                print examples\r\n",
      "  --sendto arg           send examples to <host>\r\n",
      "\r\n",
      "Output model:\r\n",
      "  -f [ --final_regressor ] arg          Final regressor\r\n",
      "  --readable_model arg                  Output human-readable final regressor \r\n",
      "                                        with numeric features\r\n",
      "  --invert_hash arg                     Output human-readable final regressor \r\n",
      "                                        with feature names.  Computationally \r\n",
      "                                        expensive.\r\n",
      "  --save_resume                         save extra state so learning can be \r\n",
      "                                        resumed later with new data\r\n",
      "  --save_per_pass                       Save the model after every pass over \r\n",
      "                                        data\r\n",
      "  --output_feature_regularizer_binary arg\r\n",
      "                                        Per feature regularization output file\r\n",
      "  --output_feature_regularizer_text arg Per feature regularization output file,\r\n",
      "                                        in text\r\n",
      "\r\n",
      "Output options:\r\n",
      "  -p [ --predictions ] arg     File to output predictions to\r\n",
      "  -r [ --raw_predictions ] arg File to output unnormalized predictions to\r\n",
      "\r\n",
      "Score modifying options (can be combined):\r\n",
      "  --nn arg              Use sigmoidal feedforward network with <k> hidden units\r\n",
      "  --new_mf              use new, reduction-based matrix factorization\r\n",
      "  --autolink arg        create link function with polynomial d\r\n",
      "  --lrq arg             use low rank quadratic features\r\n",
      "  --lrqdropout          use dropout training for low rank quadratic features\r\n",
      "  --stage_poly          use stagewise polynomial feature learning\r\n",
      "\r\n",
      "Score user options (these are exclusive):\r\n",
      "  --top arg             top k recommendation\r\n",
      "  --binary              report loss as binary classification on -1,1\r\n",
      "  --oaa arg             Use one-against-all multiclass learning with <k> labels\r\n",
      "  --ect arg             Use error correcting tournament with <k> labels\r\n",
      "  --log_multi arg       Use online tree for multiclass\r\n",
      "  --csoaa arg           Use one-against-all multiclass learning with <k> costs\r\n",
      "  --wap arg             Use weighted all-pairs multiclass learning with <k> \r\n",
      "                        costs\r\n",
      "  --csoaa_ldf arg       Use one-against-all multiclass learning with label \r\n",
      "                        dependent features.  Specify singleline or multiline.\r\n",
      "  --wap_ldf arg         Use weighted all-pairs multiclass learning with label \r\n",
      "                        dependent features.  Specify singleline or multiline.\r\n",
      "\r\n",
      "Contextual Bandit options:\r\n",
      "  --cb arg              Use contextual bandit learning with <k> costs\r\n",
      "  --cbify arg           Convert multiclass on <k> classes into a contextual \r\n",
      "                        bandit problem and solve\r\n",
      "\r\n",
      "Search:\r\n",
      "  --search arg          use search-based structured prediction, \r\n",
      "                        argument=maximum action id or 0 for LDF\r\n",
      "\r\n",
      "Input options:\r\n",
      "  -d [ --data ] arg     Example Set\r\n",
      "  --daemon              persistent daemon mode on port 26542\r\n",
      "  --port arg            port to listen on; use 0 to pick unused port\r\n",
      "  --num_children arg    number of children for persistent daemon mode\r\n",
      "  --pid_file arg        Write pid file in persistent daemon mode\r\n",
      "  --port_file arg       Write port used in persistent daemon mode\r\n",
      "  -c [ --cache ]        Use a cache.  The default is <data>.cache\r\n",
      "  --cache_file arg      The location(s) of cache_file.\r\n",
      "  -k [ --kill_cache ]   do not reuse existing cache: create a new one always\r\n",
      "  --compressed          use gzip format whenever possible. If a cache file is \r\n",
      "                        being created, this option creates a compressed cache \r\n",
      "                        file. A mixture of raw-text & compressed inputs are \r\n",
      "                        supported with autodetection.\r\n",
      "  --no_stdin            do not default to reading from stdin\r\n",
      "\r\n"
     ]
    }
   ],
   "source": [
    "vw --help"
   ]
  },
  {
   "cell_type": "markdown",
   "metadata": {},
   "source": [
    "The first thing that we need to do is to convert the log file into the input format that VW expects.  VW comes with a utility called `vw-csv2bin`, but we're going to write some simple python code to do that:"
   ]
  },
  {
   "cell_type": "code",
   "execution_count": null,
   "metadata": {
    "collapsed": false
   },
   "outputs": [],
   "source": [
    "import re"
   ]
  },
  {
   "cell_type": "code",
   "execution_count": null,
   "metadata": {
    "collapsed": false
   },
   "outputs": [],
   "source": [
    "def tsv_to_vw(tsv_file, vw_file, skip_lines, num_lines):\n",
    "    print \"\\nTurning %s into %s...\" % (tsv_file, vw_file)\n",
    "\n",
    "    # open our input file and an output file to write to\n",
    "    with open(tsv_file, 'r') as infile, open(vw_file, 'w') as outfile:        \n",
    "        lines_read=0\n",
    "        lines_skipped=0\n",
    "        # read the file line by line\n",
    "        for line in infile:\n",
    "            # we want to skip the first skip_lines lines of the file\n",
    "            if skip_lines!=0 and lines_skipped<skip_lines:\n",
    "                lines_skipped += 1\n",
    "                continue\n",
    "  \n",
    "            # if we've converted num_lines already, stop\n",
    "            if lines_read>= num_lines: return\n",
    "\n",
    "            # othewise, convert the line\n",
    "            out_line = \"\"\n",
    "            # get rid of the newline at the end of the line\n",
    "            line = re.sub('\\n', '', line)\n",
    "            # split the file on tabs\n",
    "            data = re.split('\\t', line)\n",
    "\n",
    "            # pop off our target/label column and write the label | for vw\n",
    "            target = data.pop(0)        \n",
    "            out_line += \"1 | \" if target == \"1\" else \"-1 | \"\n",
    "\n",
    "            # write the 13 integer features in a form like feature:val, e.g. f0:124\n",
    "            for i in range(13):\n",
    "                out_line += \"f%s:\" % i\n",
    "                if data[i] == \"\":\n",
    "                    out_line += \"0 \"\n",
    "                else:\n",
    "                    out_line += \"%s \" % data[i]\n",
    "\n",
    "            # all the rest are the categorical features, so we just write these directly\n",
    "            # and vw will interpet them as F:1 when they're present, F:0 when they're not\n",
    "            for i in range(13, len(data)):\n",
    "                if data[i] == \"\": continue\n",
    "                out_line += \"f%s_%s \" % (i, data[i])\n",
    "\n",
    "            out_line += \"\\n\"\n",
    "            outfile.write(out_line)\n",
    "            lines_read += 1"
   ]
  },
  {
   "cell_type": "code",
   "execution_count": null,
   "metadata": {
    "collapsed": false
   },
   "outputs": [],
   "source": [
    "# DON'T RE-RUN THIS, BECAUSE IT WILL TAKE FOREVER...\n",
    "# also, only write out 2mm lines because my hard drive fills up...\n",
    "tsv_to_vw(\"data/day_0\", \"data/day_0.vw\", skip_lines=0, num_lines=2000000)"
   ]
  },
  {
   "cell_type": "code",
   "execution_count": null,
   "metadata": {
    "collapsed": false
   },
   "outputs": [],
   "source": [
    "tsv_to_vw(\"data/day_0\", \"data/day_0.test.vw\", skip_lines=2000000, num_lines=2000000)"
   ]
  },
  {
   "cell_type": "code",
   "execution_count": 1,
   "metadata": {
    "collapsed": false
   },
   "outputs": [
    {
     "name": "stdout",
     "output_type": "stream",
     "text": [
      "1 | f0:5 f1:110 f2:0 f3:16 f4:0 f5:1 f6:0 f7:14 f8:7 f9:1 f10:0 f11:306 f12:0 f13_62770d79 f14_e21f5d58 f15_afea442f f16_945c7fcf f17_38b02748 f18_6fcd6dcb f19_3580aa21 f20_28808903 f21_46dedfa6 f22_2e027dc1 f23_0c7c4231 f24_95981d1f f25_00c5ffb7 f26_be4ee537 f27_8a0b74cc f28_4cdc3efa f29_d20856aa f30_b8170bba f31_9512c20b f32_c38e2f28 f33_14f65a5d f34_25b1b089 f35_d7c1fc0b f36_7caf609c f37_30436bfc f38_ed10571d \r\n",
      "-1 | f0:32 f1:3 f2:5 f3:0 f4:1 f5:0 f6:0 f7:61 f8:5 f9:0 f10:1 f11:3157 f12:5 f13_e5f3fd8d f14_a0aaffa6 f15_6faa15d5 f16_da8a3421 f17_3cd69f23 f18_6fcd6dcb f19_ab16ed81 f20_43426c29 f21_1df5e154 f22_7de9c0a9 f23_6652dc64 f24_99eb4e27 f25_00c5ffb7 f26_be4ee537 f27_f3bbfe99 f28_4cdc3efa f29_d20856aa f30_a1eb1511 f31_9512c20b f32_febfd863 f33_a3323ca1 f34_c8e1ee56 f35_1752e9e8 f36_75350c8a f37_991321ea f38_b757e957 \r\n",
      "-1 | f0:0 f1:233 f2:1 f3:146 f4:1 f5:0 f6:0 f7:99 f8:7 f9:0 f10:1 f11:3101 f12:1 f13_62770d79 f14_ad984203 f15_62bec60d f16_386c49ee f17_e755064d f18_6fcd6dcb f19_b5f5eb62 f20_d1f2cc8b f21_2e4e821f f22_2e027dc1 f23_0c7c4231 f24_12716184 f25_00c5ffb7 f26_be4ee537 f27_f70f0d0b f28_4cdc3efa f29_d20856aa f30_628f1b8d f31_9512c20b f32_c38e2f28 f33_14f65a5d f34_25b1b089 f35_d7c1fc0b f36_34a9b905 f37_ff654802 f38_ed10571d \r\n",
      "-1 | f0:0 f1:24 f2:0 f3:11 f4:24 f5:0 f6:0 f7:56 f8:3 f9:0 f10:2 f11:20456 f12:0 f14_710103fd f15_c73d2eb5 f16_0c758dfb f17_f1738f48 f18_6fcd6dcb f19_e824fc11 f20_09f8a09d f21_e25a4c11 f24_12716184 f25_d49eb1df f26_b96f9e1a f27_2b083b96 f28_10dd3744 f29_1f7fc70b f30_a1eb1511 f31_9512c20b f35_dc209cd3 f36_b8a81fb0 f37_30436bfc f38_b757e957 \r\n",
      "-1 | f0:60 f1:223 f2:6 f3:15 f4:5 f5:0 f6:0 f7:1 f8:8 f9:0 f10:2 f11:1582 f12:6 f13_02e197c5 f14_c2ced437 f15_a2427619 f16_3f85ecae f17_b8c51ab7 f18_6fcd6dcb f19_26d0f5bb f20_337bf7a5 f21_e25a4c11 f22_6da2367e f23_bf624fa3 f24_ec982ce0 f25_a77a4a56 f26_be4ee537 f27_eb24f585 f28_4cdc3efa f29_d20856aa f30_d9f758ff f31_9512c20b f32_c709ec07 f33_2b07677e f34_a89a92a5 f35_aa137169 f36_e619743b f37_cdc3217e f38_ed10571d \r\n",
      "1 | f0:7 f1:1 f2:10 f3:2 f4:0 f5:3 f6:0 f7:0 f8:12 f9:1 f10:0 f11:4 f12:2 f13_8a2b1e43 f14_3fa554c6 f15_0b8e4616 f16_f2463ffb f17_c6fc10d3 f18_6fcd6dcb f19_ca33cfe1 f20_ec70a584 f21_1df5e154 f22_31184e3d f23_fa478aa9 f24_ea19984d f25_bf78d0d4 f27_1db5813f f30_b8170bba f31_9512c20b f32_8024f45f f33_0683bc6f f34_fa7eca6c f36_ecfbb046 f37_ff654802 f38_b757e957 \r\n",
      "-1 | f0:1 f1:52 f2:1 f3:59 f4:9 f5:0 f6:0 f7:1 f8:1 f9:0 f10:2 f11:40969 f12:1 f13_a80f39e1 f14_79782afd f15_ddb2d2e1 f16_3f85ecae f17_27d2607e f18_6fcd6dcb f19_3c024557 f20_3e03ba26 f21_25dd8f9a f22_e6c4de5e f23_a5c09e1f f24_9a1f0c1e f25_a77a4a56 f27_fbc36ae9 f30_6691e292 f31_9512c20b f32_0c973540 f33_1443a006 f34_5f0a75ba f36_ae2a9011 f37_321935cd f38_74a20f02 \r\n",
      "-1 | f0:81 f1:394 f2:5 f3:0 f4:8 f5:0 f6:0 f7:11 f8:10 f9:0 f10:1 f11:30814 f12:5 f13_a46c5216 f14_ddc72fb0 f15_49c7ebf8 f16_386c49ee f17_6c49ffa1 f18_919c68e4 f19_407011ef f20_b2a2bd17 f21_2e4e821f f22_bd939915 f23_62891297 f24_12716184 f25_d49eb1df f26_be4ee537 f27_57469cbd f28_4cdc3efa f29_753da5f3 f30_d9fd9ab1 f31_9512c20b f32_3904f3e1 f33_9d4a8e96 f34_87cdacc3 f35_c41c9ca8 f36_bf38b85a f37_30436bfc f38_ed10571d \r\n",
      "-1 | f0:1 f1:3 f2:0 f3:0 f4:0 f5:0 f6:0 f7:1748 f8:5 f9:0 f10:0 f11:2285 f12:1 f13_9318c40b f14_53c06361 f15_fea787e5 f16_d9a8ea57 f17_58f5b2da f18_6fcd6dcb f19_85b703eb f20_586d6aed f21_2e4e821f f22_5a26a4e7 f23_750506a2 f24_e07b0a69 f25_405ca118 f26_be4ee537 f27_4354aec1 f28_4cdc3efa f29_d20856aa f30_b8170bba f31_9512c20b f32_4417662d f33_5731c43e f34_ad2dfc1d f35_a3d67fd4 f36_a8141335 f37_30436bfc f38_ed10571d \r\n",
      "-1 | f0:4 f1:20 f2:3 f3:7 f4:1 f5:1 f6:1 f7:8 f8:9 f9:1 f10:1 f11:53 f12:3 f13_62770d79 f14_ad984203 f15_ddd956c1 f16_f7f54f97 f17_bbaea1c0 f18_6fcd6dcb f19_3dfbcac0 f20_d1f2cc8b f21_2e4e821f f22_2e027dc1 f23_0c7c4231 f24_12716184 f25_f4fc3c5e f26_be4ee537 f27_f70f0d0b f28_4cdc3efa f29_d20856aa f30_b8170bba f31_9512c20b f32_c38e2f28 f33_14f65a5d f34_25b1b089 f35_d7c1fc0b f36_90b2fb17 f37_30436bfc f38_ed10571d \r\n"
     ]
    }
   ],
   "source": [
    "head -10 data/day_0.vw"
   ]
  },
  {
   "cell_type": "markdown",
   "metadata": {},
   "source": [
    "We can validate the format with the super useful [VW format validator tool](http://hunch.net/~vw/validate.html\n",
    ")."
   ]
  },
  {
   "cell_type": "markdown",
   "metadata": {},
   "source": [
    "Next, we'll train a logistic regression model.  The `-f` flag tells it where to store the final model, and the `-d` option is for the input data.  (Note, this provides realtime feedback in the terminal that you can't see in the notebook...)"
   ]
  },
  {
   "cell_type": "code",
   "execution_count": null,
   "metadata": {
    "collapsed": false
   },
   "outputs": [],
   "source": [
    "vw --loss_function logistic -f data/day_0.model -d data/day_0.vw"
   ]
  },
  {
   "cell_type": "markdown",
   "metadata": {},
   "source": [
    "Instead of displaying the logistic loss function values, we can have it display the binary accuracy instead:"
   ]
  },
  {
   "cell_type": "code",
   "execution_count": null,
   "metadata": {
    "collapsed": false
   },
   "outputs": [],
   "source": [
    "vw --loss_function logistic --binary -f data/day_0.model -d data/day_0.vw"
   ]
  },
  {
   "cell_type": "markdown",
   "metadata": {},
   "source": [
    "The dataset is 94% 0's, so getting an accuracy of 97% means that it is indeed learning something about the 1's."
   ]
  },
  {
   "cell_type": "markdown",
   "metadata": {},
   "source": [
    "We can have VW make multiple passes over the data.  In general, the more passes the better:"
   ]
  },
  {
   "cell_type": "code",
   "execution_count": null,
   "metadata": {
    "collapsed": false
   },
   "outputs": [],
   "source": [
    "vw --loss_function logistic --binary -f data/day_0.model -d data/day_0.vw -c --passes 2"
   ]
  },
  {
   "cell_type": "markdown",
   "metadata": {},
   "source": [
    "And we can apply the model to new data with the `-t` flag.  Predictions will be written to the file specified by the `-p` flag and raw predictions to the file specified by the `-r` flag:"
   ]
  },
  {
   "cell_type": "code",
   "execution_count": null,
   "metadata": {
    "collapsed": false
   },
   "outputs": [],
   "source": [
    "vw -t --binary -i data/day_0.model -d data/day_0.test.vw -p data/day_0.test.preds -r data/day_0.test.raw.preds"
   ]
  },
  {
   "cell_type": "code",
   "execution_count": null,
   "metadata": {
    "collapsed": false
   },
   "outputs": [],
   "source": [
    "head -10 data/day_0.test.preds"
   ]
  },
  {
   "cell_type": "code",
   "execution_count": null,
   "metadata": {
    "collapsed": false
   },
   "outputs": [],
   "source": [
    "head -10 data/day_0.test.raw.preds"
   ]
  },
  {
   "cell_type": "markdown",
   "metadata": {},
   "source": [
    "Let's write a file with only the true test predictions:"
   ]
  },
  {
   "cell_type": "code",
   "execution_count": null,
   "metadata": {
    "collapsed": false
   },
   "outputs": [],
   "source": [
    "cut -d \"|\" -f 1 data/day_0.test.vw > data/day_0.test.true.labels"
   ]
  },
  {
   "cell_type": "code",
   "execution_count": null,
   "metadata": {
    "collapsed": false
   },
   "outputs": [],
   "source": [
    "head -10 data/day_0.test.true.labels"
   ]
  },
  {
   "cell_type": "code",
   "execution_count": 1,
   "metadata": {
    "collapsed": false
   },
   "outputs": [],
   "source": [
    "%matplotlib inline"
   ]
  },
  {
   "cell_type": "code",
   "execution_count": 2,
   "metadata": {
    "collapsed": false
   },
   "outputs": [],
   "source": [
    "import numpy as np\n",
    "import pandas as pd\n",
    "import matplotlib.pyplot as plt\n",
    "import seaborn as sns\n",
    "from sklearn.metrics import roc_curve, roc_auc_score"
   ]
  },
  {
   "cell_type": "code",
   "execution_count": 3,
   "metadata": {
    "collapsed": false
   },
   "outputs": [
    {
     "data": {
      "text/html": [
       "<div>\n",
       "<table border=\"1\" class=\"dataframe\">\n",
       "  <thead>\n",
       "    <tr style=\"text-align: right;\">\n",
       "      <th></th>\n",
       "      <th>label</th>\n",
       "    </tr>\n",
       "  </thead>\n",
       "  <tbody>\n",
       "    <tr>\n",
       "      <th>0</th>\n",
       "      <td>-1</td>\n",
       "    </tr>\n",
       "    <tr>\n",
       "      <th>1</th>\n",
       "      <td>-1</td>\n",
       "    </tr>\n",
       "    <tr>\n",
       "      <th>2</th>\n",
       "      <td>-1</td>\n",
       "    </tr>\n",
       "    <tr>\n",
       "      <th>3</th>\n",
       "      <td>-1</td>\n",
       "    </tr>\n",
       "    <tr>\n",
       "      <th>4</th>\n",
       "      <td>-1</td>\n",
       "    </tr>\n",
       "  </tbody>\n",
       "</table>\n",
       "</div>"
      ],
      "text/plain": [
       "   label\n",
       "0     -1\n",
       "1     -1\n",
       "2     -1\n",
       "3     -1\n",
       "4     -1"
      ]
     },
     "execution_count": 3,
     "metadata": {},
     "output_type": "execute_result"
    }
   ],
   "source": [
    "labels = pd.read_csv(\"data/day_0.test.true.labels\", header=None)\n",
    "labels.columns = [\"label\"]\n",
    "labels.head()"
   ]
  },
  {
   "cell_type": "code",
   "execution_count": 4,
   "metadata": {
    "collapsed": false
   },
   "outputs": [
    {
     "data": {
      "text/html": [
       "<div>\n",
       "<table border=\"1\" class=\"dataframe\">\n",
       "  <thead>\n",
       "    <tr style=\"text-align: right;\">\n",
       "      <th></th>\n",
       "      <th>pred</th>\n",
       "    </tr>\n",
       "  </thead>\n",
       "  <tbody>\n",
       "    <tr>\n",
       "      <th>0</th>\n",
       "      <td>-6.131194</td>\n",
       "    </tr>\n",
       "    <tr>\n",
       "      <th>1</th>\n",
       "      <td>-4.305913</td>\n",
       "    </tr>\n",
       "    <tr>\n",
       "      <th>2</th>\n",
       "      <td>-5.647429</td>\n",
       "    </tr>\n",
       "    <tr>\n",
       "      <th>3</th>\n",
       "      <td>-2.926275</td>\n",
       "    </tr>\n",
       "    <tr>\n",
       "      <th>4</th>\n",
       "      <td>-4.201283</td>\n",
       "    </tr>\n",
       "  </tbody>\n",
       "</table>\n",
       "</div>"
      ],
      "text/plain": [
       "       pred\n",
       "0 -6.131194\n",
       "1 -4.305913\n",
       "2 -5.647429\n",
       "3 -2.926275\n",
       "4 -4.201283"
      ]
     },
     "execution_count": 4,
     "metadata": {},
     "output_type": "execute_result"
    }
   ],
   "source": [
    "preds = pd.read_csv(\"data/day_0.test.raw.preds\", header=None)\n",
    "preds.columns = [\"pred\"]\n",
    "preds.head()"
   ]
  },
  {
   "cell_type": "code",
   "execution_count": 5,
   "metadata": {
    "collapsed": false
   },
   "outputs": [
    {
     "data": {
      "image/png": "[encoded data removed]",
      "text/plain": [
       "<matplotlib.figure.Figure at 0x10b254250>"
      ]
     },
     "metadata": {},
     "output_type": "display_data"
    }
   ],
   "source": [
    "fpr, tpr, thresholds = roc_curve(labels.label, preds.pred)\n",
    "fpr_rand = tpr_rand = np.linspace(0, 1, 10)\n",
    "\n",
    "plt.plot(fpr, tpr)\n",
    "plt.plot(fpr_rand, tpr_rand, linestyle='--')\n",
    "plt.show()"
   ]
  },
  {
   "cell_type": "code",
   "execution_count": 6,
   "metadata": {
    "collapsed": false
   },
   "outputs": [
    {
     "data": {
      "text/plain": [
       "0.71823137507417334"
      ]
     },
     "execution_count": 6,
     "metadata": {},
     "output_type": "execute_result"
    }
   ],
   "source": [
    "roc_auc_score(labels.label, preds.pred)"
   ]
  },
  {
   "cell_type": "markdown",
   "metadata": {},
   "source": [
    "We can tell VW to generate all quadratic interaction features and use them in the model:"
   ]
  },
  {
   "cell_type": "code",
   "execution_count": 7,
   "metadata": {
    "collapsed": false
   },
   "outputs": [
    {
     "ename": "SyntaxError",
     "evalue": "invalid syntax (<ipython-input-7-8469a05caee3>, line 1)",
     "output_type": "error",
     "traceback": [
      "\u001b[0;36m  File \u001b[0;32m\"<ipython-input-7-8469a05caee3>\"\u001b[0;36m, line \u001b[0;32m1\u001b[0m\n\u001b[0;31m    vw --loss_function logistic --binary -q aa -b 24 -d data/day_0.vw\u001b[0m\n\u001b[0m                              ^\u001b[0m\n\u001b[0;31mSyntaxError\u001b[0m\u001b[0;31m:\u001b[0m invalid syntax\n"
     ]
    }
   ],
   "source": [
    "vw --loss_function logistic --binary -q aa -b 24 -d data/day_0.vw"
   ]
  },
  {
   "cell_type": "markdown",
   "metadata": {},
   "source": [
    "Same with cubic features:"
   ]
  },
  {
   "cell_type": "code",
   "execution_count": null,
   "metadata": {
    "collapsed": false
   },
   "outputs": [],
   "source": [
    "vw --loss_function logistic --binary --cubic aaa -d data/day_0.vw"
   ]
  },
  {
   "cell_type": "markdown",
   "metadata": {},
   "source": [
    "We can add lasso or ridge penalties to the model:"
   ]
  },
  {
   "cell_type": "code",
   "execution_count": null,
   "metadata": {
    "collapsed": false
   },
   "outputs": [],
   "source": [
    "vw --loss_function logistic --binary --l1 0.1 -d data/day_0.vw"
   ]
  },
  {
   "cell_type": "code",
   "execution_count": null,
   "metadata": {
    "collapsed": true
   },
   "outputs": [],
   "source": [
    "vw --loss_function logistic --binary --l2 0.1 -d data/day_0.vw"
   ]
  },
  {
   "cell_type": "markdown",
   "metadata": {},
   "source": [
    "If we had defined feature namespaces, we can mask entire chunks of features in and out of the model with the `--ignore` and `--keep` options."
   ]
  },
  {
   "cell_type": "markdown",
   "metadata": {},
   "source": [
    "We can get an idea of feature importances with the `vw-varinfo` script.  Let's first generate a tiny version of our training dataset so that this will go quickly:"
   ]
  },
  {
   "cell_type": "code",
   "execution_count": null,
   "metadata": {
    "collapsed": false
   },
   "outputs": [],
   "source": [
    "head -1000 data/day_0.vw > data/day_0.small.vw"
   ]
  },
  {
   "cell_type": "code",
   "execution_count": null,
   "metadata": {
    "collapsed": false
   },
   "outputs": [],
   "source": [
    "vw-varinfo -d data/day_0.small.vw"
   ]
  },
  {
   "cell_type": "markdown",
   "metadata": {},
   "source": [
    "Finally, we can also train a support vector machine by using the \"hinge\" loss function:"
   ]
  },
  {
   "cell_type": "code",
   "execution_count": null,
   "metadata": {
    "collapsed": false
   },
   "outputs": [],
   "source": [
    "vw --loss_function hinge --binary -f data/day_0.model -d data/day_0.vw"
   ]
  },
  {
   "cell_type": "code",
   "execution_count": null,
   "metadata": {
    "collapsed": true
   },
   "outputs": [],
   "source": []
  }
 ],
 "metadata": {
  "kernelspec": {
   "display_name": "Python 2",
   "language": "python",
   "name": "python2"
  },
  "language_info": {
   "codemirror_mode": {
    "name": "ipython",
    "version": 2
   },
   "file_extension": ".py",
   "mimetype": "text/x-python",
   "name": "python",
   "nbconvert_exporter": "python",
   "pygments_lexer": "ipython2",
   "version": "2.7.10"
  }
 },
 "nbformat": 4,
 "nbformat_minor": 0
}
