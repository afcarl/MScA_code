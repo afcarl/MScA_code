{
 "cells": [
  {
   "cell_type": "markdown",
   "metadata": {},
   "source": [
    "# Lecture 6: Support Vector Machines"
   ]
  },
  {
   "cell_type": "markdown",
   "metadata": {},
   "source": [
    "The scikit-learn documentation has a nice write-up of support vector machines [here](http://scikit-learn.org/stable/modules/svm.html).  There are three different implementations: [SVC](http://scikit-learn.org/stable/modules/generated/sklearn.svm.SVC.html#sklearn.svm.SVC), which is the main one that we'll use, [NuSVC](http://scikit-learn.org/stable/modules/generated/sklearn.svm.NuSVC.html#sklearn.svm.NuSVC), which is a slightly different formulation, and [LinearSVC](http://scikit-learn.org/stable/modules/generated/sklearn.svm.LinearSVC.html#sklearn.svm.LinearSVC), which only supports linear kernels but is faster on large datasets.  "
   ]
  },
  {
   "cell_type": "code",
   "execution_count": 2,
   "metadata": {
    "collapsed": false
   },
   "outputs": [],
   "source": [
    "%matplotlib inline"
   ]
  },
  {
   "cell_type": "code",
   "execution_count": 3,
   "metadata": {
    "collapsed": false
   },
   "outputs": [],
   "source": [
    "import numpy as np\n",
    "import pandas as pd\n",
    "import matplotlib.pyplot as plt\n",
    "# this is a new import\n",
    "from sklearn.svm import SVC, LinearSVC\n",
    "from sklearn.metrics import confusion_matrix, accuracy_score, classification_report, roc_curve, roc_auc_score\n",
    "from sklearn.cross_validation import train_test_split\n",
    "from sklearn import datasets\n",
    "import seaborn as sns\n",
    "from sklearn.grid_search import GridSearchCV"
   ]
  },
  {
   "cell_type": "markdown",
   "metadata": {},
   "source": [
    "We're going to work with the by-now-nauseatingly-familiar iris dataset.  We'll build a binary model to predict species 2 vs species 3, using the first two features only, so that we can visualize it."
   ]
  },
  {
   "cell_type": "code",
   "execution_count": null,
   "metadata": {
    "collapsed": false
   },
   "outputs": [],
   "source": [
    "iris = datasets.load_iris()\n",
    "\n",
    "X = iris.data\n",
    "y = iris.target\n",
    "\n",
    "\n",
    "X = X[y != 0, :2]\n",
    "y = y[y != 0]"
   ]
  },
  {
   "cell_type": "code",
   "execution_count": null,
   "metadata": {
    "collapsed": false
   },
   "outputs": [],
   "source": [
    "X_train, X_test, y_train, y_test = train_test_split(X, y, train_size=0.9)"
   ]
  },
  {
   "cell_type": "markdown",
   "metadata": {},
   "source": [
    "Let's define a function that will train an SVM with a given kernel and a given value of the `C` and `gamma` parameters.  The function will return the trained model, the test predictions, and the test distances from the hyperplane."
   ]
  },
  {
   "cell_type": "code",
   "execution_count": null,
   "metadata": {
    "collapsed": false
   },
   "outputs": [],
   "source": [
    "def train_svm(kernel=\"linear\", C=1.0, gamma=0.0):\n",
    "\n",
    "    svm = SVC(kernel=kernel, C=C, gamma=gamma)\n",
    "    svm.fit(X_train, y_train)\n",
    "\n",
    "    # predict on the test set\n",
    "    y_preds = svm.predict(X_test)\n",
    "    # get the distances from the hyperplane, the sign of which\n",
    "    # is the prediction above\n",
    "    y_dists = svm.decision_function(X_test)\n",
    "    \n",
    "    return (svm, y_preds, y_dists)"
   ]
  },
  {
   "cell_type": "markdown",
   "metadata": {},
   "source": [
    "Let's define a function that will take a trained SVM and plot the 2-dimensional decision function, along with the training and test points."
   ]
  },
  {
   "cell_type": "code",
   "execution_count": null,
   "metadata": {
    "collapsed": false
   },
   "outputs": [],
   "source": [
    "def plot_svm(svm, X, X_test):\n",
    "\n",
    "    # plot all of the data points\n",
    "    plt.scatter(X[:, 0], X[:, 1], c=y, zorder=10, cmap=plt.cm.Paired)\n",
    "    # put an extra circle on top of the test points\n",
    "    plt.scatter(X_test[:, 0], X_test[:, 1], s=80, facecolors='none', zorder=10)\n",
    "\n",
    "    # step size of the mesh\n",
    "    h = 0.01\n",
    "    # range of the mesh\n",
    "    x_min, x_max = X[:, 0].min() - .5, X[:, 0].max() + .5\n",
    "    y_min, y_max = X[:, 1].min() - .5, X[:, 1].max() + .5\n",
    "    xx, yy = np.meshgrid(np.arange(x_min, x_max, h), np.arange(y_min, y_max, h))\n",
    "\n",
    "    z = svm.decision_function(np.column_stack((xx.ravel(), yy.ravel())))\n",
    "\n",
    "    z = z.reshape(xx.shape)\n",
    "    plt.pcolormesh(xx, yy, z > 0, cmap=plt.cm.Paired)\n",
    "    # this will plot the contour lines of the decision function\n",
    "    plt.contour(xx, yy, z, colors=['k', 'k', 'k'], linestyles=['--', '-', '--'],\n",
    "    levels=[-.5, 0, .5])\n",
    "\n",
    "    plt.show()"
   ]
  },
  {
   "cell_type": "markdown",
   "metadata": {},
   "source": [
    "First we'll train a linear SVM."
   ]
  },
  {
   "cell_type": "code",
   "execution_count": null,
   "metadata": {
    "collapsed": false
   },
   "outputs": [],
   "source": [
    "svm_linear, y_preds_linear, y_dists_linear = train_svm(\"linear\", C=1.0)"
   ]
  },
  {
   "cell_type": "code",
   "execution_count": null,
   "metadata": {
    "collapsed": false
   },
   "outputs": [],
   "source": [
    "y_preds_linear"
   ]
  },
  {
   "cell_type": "code",
   "execution_count": null,
   "metadata": {
    "collapsed": false
   },
   "outputs": [],
   "source": [
    "y_dists_linear"
   ]
  },
  {
   "cell_type": "markdown",
   "metadata": {},
   "source": [
    "We can see how many support vectors there are.  That is, how many points are on or inside of the margin.  This will return the number of support vectors of each class:"
   ]
  },
  {
   "cell_type": "code",
   "execution_count": null,
   "metadata": {
    "collapsed": false
   },
   "outputs": [],
   "source": [
    "svm_linear.n_support_"
   ]
  },
  {
   "cell_type": "code",
   "execution_count": null,
   "metadata": {
    "collapsed": false
   },
   "outputs": [],
   "source": [
    "# indices of the support vectors\n",
    "svm_linear.support_"
   ]
  },
  {
   "cell_type": "code",
   "execution_count": null,
   "metadata": {
    "collapsed": false
   },
   "outputs": [],
   "source": [
    "# the vectors themselves\n",
    "svm_linear.support_vectors_[0:5]"
   ]
  },
  {
   "cell_type": "code",
   "execution_count": null,
   "metadata": {
    "collapsed": false
   },
   "outputs": [],
   "source": [
    "svm_linear, y_preds_linear, y_dists_linear = train_svm(\"linear\", C=1.0)\n",
    "plot_svm(svm_linear, X, X_test)"
   ]
  },
  {
   "cell_type": "markdown",
   "metadata": {},
   "source": [
    "Let's try increasing the C parameter, which is the opposite of how ISLR defines it.  In ISLR, C is the budget for how many points are allowed to violate the margin.  So larger C means more violations are allowed.  In scikit-learn, it's the opposite."
   ]
  },
  {
   "cell_type": "code",
   "execution_count": null,
   "metadata": {
    "collapsed": false
   },
   "outputs": [],
   "source": [
    "# C is the inverse of how ISLR defines it\n",
    "svm_linear, y_preds_linear, y_dists_linear = train_svm(\"linear\", C=1)\n",
    "plot_svm(svm_linear, X, X_test)"
   ]
  },
  {
   "cell_type": "code",
   "execution_count": null,
   "metadata": {
    "collapsed": false
   },
   "outputs": [],
   "source": [
    "param_grid = {\"C\":[0.001, 0.01, 0.1, 1, 10, 100, 1000]}\n",
    "\n",
    "svm = SVC(kernel=\"linear\")\n",
    "cv = GridSearchCV(svm, param_grid, cv=5, n_jobs=4, refit=True)\n",
    "cv.fit(X_train, y_train)"
   ]
  },
  {
   "cell_type": "code",
   "execution_count": null,
   "metadata": {
    "collapsed": false
   },
   "outputs": [],
   "source": [
    "cv.grid_scores_"
   ]
  },
  {
   "cell_type": "markdown",
   "metadata": {},
   "source": [
    "Let's fit an SVM with a polynomial kernel of degree 2:"
   ]
  },
  {
   "cell_type": "code",
   "execution_count": null,
   "metadata": {
    "collapsed": false
   },
   "outputs": [],
   "source": [
    "svm_poly, y_preds_poly, y_dists_poly = train_svm(\"poly\", C=1.0, gamma=2)\n",
    "plot_svm(svm_poly, X, X_test)"
   ]
  },
  {
   "cell_type": "markdown",
   "metadata": {},
   "source": [
    "Let's fit an SVM with a polynomial kernel of degree 3:"
   ]
  },
  {
   "cell_type": "code",
   "execution_count": null,
   "metadata": {
    "collapsed": false
   },
   "outputs": [],
   "source": [
    "svm_poly, y_preds_poly, y_dists_poly = train_svm(\"poly\", C=1.0, gamma=3)\n",
    "plot_svm(svm_poly, X, X_test)"
   ]
  },
  {
   "cell_type": "markdown",
   "metadata": {},
   "source": [
    "Let's fit an SVM with an RBF kernel:"
   ]
  },
  {
   "cell_type": "code",
   "execution_count": null,
   "metadata": {
    "collapsed": false
   },
   "outputs": [],
   "source": [
    "svm_rbf, y_preds_rbf, y_dists_rbf = train_svm(\"rbf\", C=1.0, gamma=3)\n",
    "plot_svm(svm_rbf, X, X_test)"
   ]
  },
  {
   "cell_type": "markdown",
   "metadata": {},
   "source": [
    "Increasing the parameter of the RBF kernel makes us look at more and more local points, increasing the variance:"
   ]
  },
  {
   "cell_type": "code",
   "execution_count": null,
   "metadata": {
    "collapsed": false
   },
   "outputs": [],
   "source": [
    "svm_rbf, y_preds_rbf, y_dists_rbf = train_svm(\"rbf\", C=1.0, gamma=30)\n",
    "plot_svm(svm_rbf, X, X_test)"
   ]
  },
  {
   "cell_type": "markdown",
   "metadata": {},
   "source": [
    "## Text Classification"
   ]
  },
  {
   "cell_type": "markdown",
   "metadata": {},
   "source": [
    "SVM's are quite ofen used in text classification problems.  Here, we're going to work through an example (a modified version of [this](http://scikit-learn.org/stable/auto_examples/text/document_classification_20newsgroups.html)) using the 20 newsgroups dataset."
   ]
  },
  {
   "cell_type": "code",
   "execution_count": 1,
   "metadata": {
    "collapsed": false
   },
   "outputs": [],
   "source": [
    "from sklearn.datasets import fetch_20newsgroups\n",
    "from sklearn.feature_extraction.text import CountVectorizer"
   ]
  },
  {
   "cell_type": "markdown",
   "metadata": {},
   "source": [
    "First we'll load the data:"
   ]
  },
  {
   "cell_type": "code",
   "execution_count": 4,
   "metadata": {
    "collapsed": false
   },
   "outputs": [],
   "source": [
    "data_train = fetch_20newsgroups(subset='train', categories=None,\n",
    "                                shuffle=True, random_state=42,\n",
    "                                remove=('headers', 'footers', 'quotes'))\n",
    "\n",
    "data_test = fetch_20newsgroups(subset='test', categories=None,\n",
    "                               shuffle=True, random_state=42,\n",
    "                               remove=('headers', 'footers', 'quotes'))"
   ]
  },
  {
   "cell_type": "code",
   "execution_count": 5,
   "metadata": {
    "collapsed": false
   },
   "outputs": [
    {
     "data": {
      "text/plain": [
       "['DESCR', 'data', 'target', 'target_names', 'filenames']"
      ]
     },
     "execution_count": 5,
     "metadata": {},
     "output_type": "execute_result"
    }
   ],
   "source": [
    "data_train.keys()"
   ]
  },
  {
   "cell_type": "markdown",
   "metadata": {},
   "source": [
    "The data has postings from one of 20 \"newsgroup\" types."
   ]
  },
  {
   "cell_type": "code",
   "execution_count": 6,
   "metadata": {
    "collapsed": false
   },
   "outputs": [
    {
     "data": {
      "text/plain": [
       "11314"
      ]
     },
     "execution_count": 6,
     "metadata": {},
     "output_type": "execute_result"
    }
   ],
   "source": [
    "len(data_train.data)"
   ]
  },
  {
   "cell_type": "code",
   "execution_count": 7,
   "metadata": {
    "collapsed": false
   },
   "outputs": [
    {
     "data": {
      "text/plain": [
       "['alt.atheism',\n",
       " 'comp.graphics',\n",
       " 'comp.os.ms-windows.misc',\n",
       " 'comp.sys.ibm.pc.hardware',\n",
       " 'comp.sys.mac.hardware',\n",
       " 'comp.windows.x',\n",
       " 'misc.forsale',\n",
       " 'rec.autos',\n",
       " 'rec.motorcycles',\n",
       " 'rec.sport.baseball',\n",
       " 'rec.sport.hockey',\n",
       " 'sci.crypt',\n",
       " 'sci.electronics',\n",
       " 'sci.med',\n",
       " 'sci.space',\n",
       " 'soc.religion.christian',\n",
       " 'talk.politics.guns',\n",
       " 'talk.politics.mideast',\n",
       " 'talk.politics.misc',\n",
       " 'talk.religion.misc']"
      ]
     },
     "execution_count": 7,
     "metadata": {},
     "output_type": "execute_result"
    }
   ],
   "source": [
    "data_train.target_names"
   ]
  },
  {
   "cell_type": "markdown",
   "metadata": {},
   "source": [
    "The first trainging post comes from the \"rec.autos\" newsgroup:"
   ]
  },
  {
   "cell_type": "code",
   "execution_count": 8,
   "metadata": {
    "collapsed": false
   },
   "outputs": [
    {
     "data": {
      "text/plain": [
       "'rec.autos'"
      ]
     },
     "execution_count": 8,
     "metadata": {},
     "output_type": "execute_result"
    }
   ],
   "source": [
    "data_train.target_names[data_train.target[0]]"
   ]
  },
  {
   "cell_type": "markdown",
   "metadata": {},
   "source": [
    "And has the following contents:"
   ]
  },
  {
   "cell_type": "code",
   "execution_count": 9,
   "metadata": {
    "collapsed": false
   },
   "outputs": [
    {
     "data": {
      "text/plain": [
       "u'I was wondering if anyone out there could enlighten me on this car I saw\\nthe other day. It was a 2-door sports car, looked to be from the late 60s/\\nearly 70s. It was called a Bricklin. The doors were really small. In addition,\\nthe front bumper was separate from the rest of the body. This is \\nall I know. If anyone can tellme a model name, engine specs, years\\nof production, where this car is made, history, or whatever info you\\nhave on this funky looking car, please e-mail.'"
      ]
     },
     "execution_count": 9,
     "metadata": {},
     "output_type": "execute_result"
    }
   ],
   "source": [
    "data_train.data[0]"
   ]
  },
  {
   "cell_type": "markdown",
   "metadata": {},
   "source": [
    "Let's make a binary target variable to predict whether a given post is in the \"sci.space\" newsgroup:"
   ]
  },
  {
   "cell_type": "code",
   "execution_count": 10,
   "metadata": {
    "collapsed": false
   },
   "outputs": [],
   "source": [
    "space_target = (data_train.target==14).astype(\"int\")\n",
    "space_target_test = (data_test.target==14).astype(\"int\")"
   ]
  },
  {
   "cell_type": "markdown",
   "metadata": {},
   "source": [
    "One way to turn a blob of text into features or predictors (to \"vectorize\" it) is to simply count up the number of times each word appears."
   ]
  },
  {
   "cell_type": "code",
   "execution_count": 11,
   "metadata": {
    "collapsed": false
   },
   "outputs": [],
   "source": [
    "vectorizer = CountVectorizer(stop_words='english')\n",
    "X_train = vectorizer.fit_transform(data_train.data)\n",
    "X_test = vectorizer.transform(data_test.data)"
   ]
  },
  {
   "cell_type": "markdown",
   "metadata": {},
   "source": [
    "The features are the number of times each word in the \"vocabulary\" appears in a given post.  Note that, by far, most words won't show up in most posts, so the matrix of predcitors is very \"sparse\"."
   ]
  },
  {
   "cell_type": "code",
   "execution_count": 12,
   "metadata": {
    "collapsed": false
   },
   "outputs": [
    {
     "data": {
      "text/plain": [
       "101323"
      ]
     },
     "execution_count": 12,
     "metadata": {},
     "output_type": "execute_result"
    }
   ],
   "source": [
    "len(vectorizer.vocabulary_)"
   ]
  },
  {
   "cell_type": "code",
   "execution_count": 13,
   "metadata": {
    "collapsed": false
   },
   "outputs": [
    {
     "data": {
      "text/plain": [
       "{u'3ds2scn': 6906,\n",
       " u'wax3': 95669,\n",
       " u'l1tbk': 55092,\n",
       " u'mbhi8bea': 60014,\n",
       " u'luanch': 57609,\n",
       " u'woods': 96905,\n",
       " u'ree84': 76655,\n",
       " u'mdbs': 60375,\n",
       " u'hanging': 45488,\n",
       " u'woody': 96912,\n",
       " u'trawling': 89838,\n",
       " u'localized': 57118,\n",
       " u'spidery': 84167,\n",
       " u'disobeying': 34056,\n",
       " u'canes': 25585,\n",
       " u'os2faq': 68487,\n",
       " u'sprague': 84354,\n",
       " u'chatter': 26775,\n",
       " u'5986': 9141,\n",
       " u'crossbar': 30540,\n",
       " u'rickman': 78144,\n",
       " u'showy': 82224,\n",
       " u'_xogkyrzaup': 15724,\n",
       " u'naturopathic': 64925,\n",
       " u'sowell': 83851,\n",
       " u'slqfbql': 83146,\n",
       " u'pigment': 71207,\n",
       " u'cfc': 26482,\n",
       " u'ua8cx': 90878,\n",
       " u'mahavolich': 59051,\n",
       " u'broward': 24269,\n",
       " u'bringing': 24159,\n",
       " u'1089': 1845,\n",
       " u'dascenzo': 31797,\n",
       " u'wooded': 96898,\n",
       " u'grueling': 44481,\n",
       " u'vibrational': 93992,\n",
       " u'wooden': 96899,\n",
       " u'wednesday': 95853,\n",
       " u'andrei_lomakin': 18531,\n",
       " u'circuitry': 27423,\n",
       " u'598n': 9142,\n",
       " u'crotch': 30563,\n",
       " u'jujuga': 52779,\n",
       " u'amplifications': 18329,\n",
       " u'v6jylh': 93118,\n",
       " u'xpknxekf5': 98517,\n",
       " u'immunities': 49091,\n",
       " u'spiders': 84165,\n",
       " u'2h5b8z': 5522,\n",
       " u'thrace': 88584,\n",
       " u'gaskets': 42610,\n",
       " u'znb8flb8': 100880,\n",
       " u'error_': 37738,\n",
       " u'270': 5072,\n",
       " u'271': 5081,\n",
       " u'272': 5084,\n",
       " u'273': 5088,\n",
       " u'274': 5094,\n",
       " u'275': 5098,\n",
       " u'276': 5105,\n",
       " u'277': 5106,\n",
       " u'278': 5114,\n",
       " u'279': 5117,\n",
       " u'targa': 87524,\n",
       " u'inanimate': 49350,\n",
       " u'xivz': 98238,\n",
       " u'errors': 37739,\n",
       " u'dialogs': 33411,\n",
       " u'schlageter': 80652,\n",
       " u'ja_4mm8': 51658,\n",
       " u'nsqjd0': 66592,\n",
       " u'm2r5a': 58151,\n",
       " u'usenet': 92614,\n",
       " u'1jpt78': 3858,\n",
       " u'designing': 33027,\n",
       " u'numeram': 66692,\n",
       " u'databank': 31822,\n",
       " u'cherrie': 26887,\n",
       " u'tekprstbl': 87839,\n",
       " u'evolutionism': 38252,\n",
       " u'27a': 5123,\n",
       " u'27c': 5124,\n",
       " u'devellano': 33225,\n",
       " u'wasington': 95587,\n",
       " u'mailings': 59084,\n",
       " u'668966': 10210,\n",
       " u'brainwashed': 23927,\n",
       " u'affiliates': 17190,\n",
       " u'27u': 5141,\n",
       " u'27x': 5143,\n",
       " u'27y': 5144,\n",
       " u'motorolla': 63120,\n",
       " u'quart': 75034,\n",
       " u'kids': 54061,\n",
       " u'secuturity': 81182,\n",
       " u'naviagtion': 64947,\n",
       " u'monospaced': 62855,\n",
       " u'controversy': 29599,\n",
       " u'kida': 54050,\n",
       " u'kinsley': 54170,\n",
       " u'mv3kcj4': 64081,\n",
       " u'neurologist': 65412,\n",
       " u'g8evmmg': 42284,\n",
       " u'spotty': 84338,\n",
       " u'1jpt7s': 3859,\n",
       " u'e8': 35784,\n",
       " u'_would_': 15702,\n",
       " u'topography': 89289,\n",
       " u'projection': 73277,\n",
       " u'b0l47': 20943,\n",
       " u'ff2j33n': 40002,\n",
       " u'xgetatomname': 98108,\n",
       " u'orangish': 68238,\n",
       " u'stero': 85145,\n",
       " u'stern': 85140,\n",
       " u'satalink': 80321,\n",
       " u'46862': 7853,\n",
       " u'askuser': 19833,\n",
       " u'umumi': 91364,\n",
       " u'dnd': 34517,\n",
       " u'agassi': 17294,\n",
       " u'e6': 35762,\n",
       " u'dna': 34515,\n",
       " u'blashephemers': 23081,\n",
       " u'rmr9r': 78600,\n",
       " u'dnm': 34528,\n",
       " u'insecurity': 50100,\n",
       " u'7fa': 11898,\n",
       " u'dni': 34521,\n",
       " u'7fg': 11899,\n",
       " u'inevitable': 49691,\n",
       " u'wo8ps': 96819,\n",
       " u'e3': 35719,\n",
       " u'dns': 34531,\n",
       " u'distortions': 34236,\n",
       " u'sermons': 81547,\n",
       " u'benedikt': 22302,\n",
       " u'rcdpaxafrl': 76059,\n",
       " u'n7zg': 64625,\n",
       " u'populations': 72179,\n",
       " u'ntw5w': 66637,\n",
       " u'0rfumrd': 1243,\n",
       " u'mj4832s725jj1ne': 62066,\n",
       " u'cimage': 27378,\n",
       " u'j6eg': 51554,\n",
       " u'ojjr_': 67674,\n",
       " u'avmk': 20645,\n",
       " u'molenaar': 62732,\n",
       " u'cherbayev': 26876,\n",
       " u'adventist': 17015,\n",
       " u'reingold': 76922,\n",
       " u'ecs1emt': 36125,\n",
       " u'intake': 50267,\n",
       " u'morally': 62946,\n",
       " u'pirenne': 71341,\n",
       " u'xiaopin': 98199,\n",
       " u'dn0': 34508,\n",
       " u'lii03i': 56587,\n",
       " u'u5jkj_4w': 90774,\n",
       " u'ixbuild': 51351,\n",
       " u'7f7': 11897,\n",
       " u'wiretapping': 96583,\n",
       " u'sed4': 81184,\n",
       " u'wang': 95476,\n",
       " u'i_i': 48269,\n",
       " u'hyatt': 47852,\n",
       " u'i_f': 48267,\n",
       " u'dipswitches': 33725,\n",
       " u'i_b': 48265,\n",
       " u'domes': 34671,\n",
       " u'titanium': 88946,\n",
       " u'leitner': 56058,\n",
       " u'want': 95489,\n",
       " u'carew': 25786,\n",
       " u'i_u': 48273,\n",
       " u'i_s': 48271,\n",
       " u'cocksucker': 28138,\n",
       " u'moniro': 62810,\n",
       " u'csnlluf': 30760,\n",
       " u'beyer': 22501,\n",
       " u'travel': 89818,\n",
       " u'a6wmw': 15937,\n",
       " u'r3000': 75380,\n",
       " u'traver': 89830,\n",
       " u'_kk': 15222,\n",
       " u'brassard': 23965,\n",
       " u'4bo0': 8092,\n",
       " u'uselessness': 92612,\n",
       " u'seds': 81199,\n",
       " u'assimilated': 19951,\n",
       " u'dinosaurs': 33689,\n",
       " u'wrong': 97179,\n",
       " u'seda': 81186,\n",
       " u'stollen': 85302,\n",
       " u'sentencing': 81435,\n",
       " u'i_6': 48263,\n",
       " u'mennon': 60797,\n",
       " u'i_3': 48262,\n",
       " u'16megabit': 3079,\n",
       " u'18s': 3348,\n",
       " u'glennc': 43531,\n",
       " u'glenne': 43532,\n",
       " u'ay79ug': 20830,\n",
       " u's6_sr64': 79818,\n",
       " u'kiloton': 54104,\n",
       " u'60watts': 9849,\n",
       " u'82xz550rj': 12487,\n",
       " u'4e14': 8142,\n",
       " u'menlo': 60796,\n",
       " u'unisual': 91907,\n",
       " u'_kt': 15226,\n",
       " u'smashers': 83233,\n",
       " u'snugly': 83440,\n",
       " u'faddishness': 39252,\n",
       " u'welcomed': 95936,\n",
       " u'concurrence': 29000,\n",
       " u'unipress': 91899,\n",
       " u'semyon': 81371,\n",
       " u'yyl5tm5': 100166,\n",
       " u'airbags': 17540,\n",
       " u'backings': 21276,\n",
       " u'vkr30i': 94322,\n",
       " u'activating': 16688,\n",
       " u'fir': 40354,\n",
       " u'uop': 92330,\n",
       " u'fiv': 40436,\n",
       " u'uov': 92351,\n",
       " u'fit': 40420,\n",
       " u'fiu': 40435,\n",
       " u'screaming': 80872,\n",
       " u'fix': 40441,\n",
       " u'uox': 92358,\n",
       " u'discourse': 33908,\n",
       " u'folate': 40935,\n",
       " u'9we': 14466,\n",
       " u'uof': 92318,\n",
       " u'fid': 40116,\n",
       " u'fij': 40191,\n",
       " u'fik': 40209,\n",
       " u'fih': 40182,\n",
       " u'9wl': 14467,\n",
       " u'fin': 40277,\n",
       " u'fil': 40215,\n",
       " u'fim': 40274,\n",
       " u'zucker': 101183,\n",
       " u'foolin': 40996,\n",
       " u'vouchers': 94582,\n",
       " u'_qk771y': 15448,\n",
       " u'photocell': 71013,\n",
       " u'effects': 36320,\n",
       " u'sedevacantists': 81196,\n",
       " u'turboed': 90341,\n",
       " u'feid3ive3': 39810,\n",
       " u'fi2': 40083,\n",
       " u'rasterized': 75889,\n",
       " u'xsettransientforhint': 98644,\n",
       " u'np2p8az_g': 66429,\n",
       " u'fi4': 40084,\n",
       " u'fi5': 40085,\n",
       " u'barton': 21679,\n",
       " u'1k60': 3877,\n",
       " u'disconnection': 33888,\n",
       " u'njc9': 65926,\n",
       " u'rasterizer': 75890,\n",
       " u'timeout': 88849,\n",
       " u'ingrid': 49886,\n",
       " u'nq9edu0': 66477,\n",
       " u'etflkhfnkhf': 37971,\n",
       " u'6q8': 10865,\n",
       " u'magiosono': 58992,\n",
       " u'6q2': 10856,\n",
       " u'6q3': 10860,\n",
       " u'6q1': 10851,\n",
       " u'parasites': 69707,\n",
       " u'dga': 33333,\n",
       " u'classc': 27695,\n",
       " u'uqei': 92466,\n",
       " u'golen': 43807,\n",
       " u'arava': 19329,\n",
       " u'xuserfilesearchpath': 99008,\n",
       " u'syd': 86729,\n",
       " u'enviroment': 37416,\n",
       " u'11101011b': 2021,\n",
       " u'combinatorial': 28428,\n",
       " u'adapt': 16767,\n",
       " u'qkgol8a': 74649,\n",
       " u'bogosity': 23450,\n",
       " u'aravy': 19331,\n",
       " u'aravx': 19330,\n",
       " u'ua8c_': 90877,\n",
       " u'hkesif1': 46752,\n",
       " u'abbott': 16147,\n",
       " u'7ik': 11957,\n",
       " u'underfoot': 91589,\n",
       " u'6qw': 10875,\n",
       " u'6qj': 10866,\n",
       " u'1a47': 3563,\n",
       " u'6ql': 10869,\n",
       " u'estimate': 37931,\n",
       " u'ugghhh': 91111,\n",
       " u'gameplay': 42498,\n",
       " u'chlorine': 27031,\n",
       " u'jugs': 52769,\n",
       " u'dgr': 33345,\n",
       " u'jd_1g': 51884,\n",
       " u'criminologists': 30440,\n",
       " u'segragation': 81244,\n",
       " u'9f9f9f9f9f9f9f9f9f9f9f9f9': 14116,\n",
       " u'dgp': 33342,\n",
       " u'chv4': 27245,\n",
       " u'disturbed': 34275,\n",
       " u'90ce': 13438,\n",
       " u'yester': 99662,\n",
       " u'energetically': 37171,\n",
       " u'curiouser': 30978,\n",
       " u'malitia': 59214,\n",
       " u'dgu': 33349,\n",
       " u'cg1ohyo_': 26510,\n",
       " u'0058': 206,\n",
       " u'megabytes': 60620,\n",
       " u'iycs': 51369,\n",
       " u'ca8y': 25274,\n",
       " u'q04': 74207,\n",
       " u'olds': 67770,\n",
       " u'wo47gph': 96812,\n",
       " u'forrester': 41191,\n",
       " u'duidelijk': 35326,\n",
       " u'ry509y': 79555,\n",
       " u'needed': 65167,\n",
       " u'acsnet': 16674,\n",
       " u'master': 59729,\n",
       " u'hiya': 46717,\n",
       " u'genesis': 42942,\n",
       " u'c8emaselis': 25183,\n",
       " u'hiye': 46718,\n",
       " u'frankenstien': 41421,\n",
       " u'berlioz': 22401,\n",
       " u'q0i': 74213,\n",
       " u'noll': 66136,\n",
       " u'anafranil': 18414,\n",
       " u'jmgree01': 52304,\n",
       " u'sukru': 86031,\n",
       " u'ca85': 25273,\n",
       " u'q0x': 74220,\n",
       " u'mutilated': 64046,\n",
       " u'zcpajp9': 100522,\n",
       " u'positively': 72261,\n",
       " u'condesending': 29024,\n",
       " u'ahmed': 17460,\n",
       " u'duckworth': 35291,\n",
       " u'anniversaries': 18666,\n",
       " u'josli': 52482,\n",
       " u'ahmet': 17462,\n",
       " u'kdk8j': 53636,\n",
       " u'u2ku': 90713,\n",
       " u'milliwatts': 61654,\n",
       " u'shampoos': 81818,\n",
       " u'feeling': 39789,\n",
       " u'uorplq': 92334,\n",
       " u'rauss': 75947,\n",
       " u'8ha35': 13020,\n",
       " u'65hr390': 10166,\n",
       " u'z38lb': 100253,\n",
       " u'gorman': 43902,\n",
       " u'atfedilen': 20128,\n",
       " u'6810': 10288,\n",
       " u'6813': 10290,\n",
       " u'srmc8v': 84584,\n",
       " u'x11perf': 97476,\n",
       " u'consenting': 29287,\n",
       " u'rcst1a06400': 76137,\n",
       " u'mishra': 61884,\n",
       " u'worlders': 96987,\n",
       " u'vgl': 93956,\n",
       " u'affairs': 17175,\n",
       " u'vgn': 93957,\n",
       " u'wholesome': 96251,\n",
       " u'vgi': 93955,\n",
       " u'paramedics': 69682,\n",
       " u'diskwriter': 34021,\n",
       " u'vga': 93948,\n",
       " u'y8g': 99383,\n",
       " u'vgx': 93961,\n",
       " u'affaire': 17173,\n",
       " u'kremlin': 54769,\n",
       " u'rhcp': 78060,\n",
       " u'shipments': 82048,\n",
       " u'45th': 7816,\n",
       " u'isgate': 51037,\n",
       " u'memebers': 60740,\n",
       " u'tligman': 89016,\n",
       " u'kariya': 53450,\n",
       " u'diminishing': 33647,\n",
       " u'kz1300': 55031,\n",
       " u'modeller': 62614,\n",
       " u'simplify': 82581,\n",
       " u'reverence': 77888,\n",
       " u'dailey': 31621,\n",
       " u'pseudonymously': 73660,\n",
       " u'buralarini': 24624,\n",
       " u'willingp': 96403,\n",
       " u'tect': 87801,\n",
       " u'sy_': 86720,\n",
       " u'purges': 73984,\n",
       " u'vertices': 93859,\n",
       " u't711': 87163,\n",
       " u'dw4go': 35497,\n",
       " u'tech': 87756,\n",
       " u'circulation': 27431,\n",
       " u'cqdwj': 30242,\n",
       " u'hiatt': 46481,\n",
       " u'vg4': 93945,\n",
       " u'vg6': 93947,\n",
       " u'duhst': 35324,\n",
       " u'purged': 73982,\n",
       " u'vg2': 93944,\n",
       " u'saying': 80435,\n",
       " u'afdzqvg': 17159,\n",
       " u'cooking': 29694,\n",
       " u'dickey': 33457,\n",
       " u'aul45': 20398,\n",
       " u'dicker': 33455,\n",
       " u'padded': 69392,\n",
       " u'mmilitzo': 62364,\n",
       " u'1achov': 3571,\n",
       " u'ysag': 99994,\n",
       " u'tempted': 87956,\n",
       " u'chelios': 26852,\n",
       " u'hounded': 47307,\n",
       " u'vindictive': 94138,\n",
       " u'apace': 18938,\n",
       " u'bullshitted': 24562,\n",
       " u'clicked': 27811,\n",
       " u'100014': 1506,\n",
       " u'luby': 57620,\n",
       " u'nordique': 66266,\n",
       " u'lube': 57613,\n",
       " u'statehouse': 84947,\n",
       " u'30332': 6084,\n",
       " u'ivafmy0k2475': 51309,\n",
       " u'plate': 71589,\n",
       " u'plato': 71602,\n",
       " u'61dsg': 9898,\n",
       " u'ldn': 55839,\n",
       " u'platt': 71608,\n",
       " u'unfonunately': 91775,\n",
       " u'mcnab': 60261,\n",
       " u'theodosios': 88357,\n",
       " u'photoelectric': 71019,\n",
       " u'altogether': 18122,\n",
       " u'rugged': 79337,\n",
       " u'd7qwz': 31503,\n",
       " u'hovel': 47332,\n",
       " u'staphylococcal': 84878,\n",
       " u'pn49yd': 71861,\n",
       " u'jaguar': 51713,\n",
       " u'distracting': 34241,\n",
       " u'nicely': 65715,\n",
       " u'hallucinating': 45335,\n",
       " u'patch': 69956,\n",
       " u'ldp': 55842,\n",
       " u'50hz': 8644,\n",
       " u'ddraf': 32056,\n",
       " u'programmatic': 73232,\n",
       " u'ajwk': 17652,\n",
       " u'6eh45u': 10538,\n",
       " u'etid': 38013,\n",
       " u'garamendi': 42551,\n",
       " u'widget': 96317,\n",
       " u'tfpayn01': 88225,\n",
       " u'tyndale': 90576,\n",
       " u'verboseness': 93767,\n",
       " u'cslip': 30754,\n",
       " u'news': 65518,\n",
       " u'irx': 51001,\n",
       " u'witling_': 96649,\n",
       " u'advisedly': 17049,\n",
       " u'lots': 57338,\n",
       " u'irq': 50938,\n",
       " u'irs': 50994,\n",
       " u'irt': 50995,\n",
       " u'xvt': 99055,\n",
       " u'xvi': 99037,\n",
       " u'iri': 50909,\n",
       " u'xvk': 99048,\n",
       " u'm9ssouslu': 58662,\n",
       " u'ipcrm': 50780,\n",
       " u'xvl': 99050,\n",
       " u'srinivas': 84565,\n",
       " u'conductive': 29051,\n",
       " u'mffc1ja': 61134,\n",
       " u'irb': 50889,\n",
       " u'offertory': 67528,\n",
       " u'solenoid': 83607,\n",
       " u'xvf': 99033,\n",
       " u'wage': 95359,\n",
       " u'trauma': 89814,\n",
       " u'27k': 5129,\n",
       " u'extend': 38763,\n",
       " u'nature': 64921,\n",
       " u'ask': 19822,\n",
       " u'1x3x70ns': 4213,\n",
       " u'fruits': 41656,\n",
       " u'27m': 5130,\n",
       " u'samx1': 80201,\n",
       " u'extent': 38775,\n",
       " u'tendons': 87985,\n",
       " u'nx2000': 66802,\n",
       " u'xv8': 99022,\n",
       " u'airflow': 17555,\n",
       " u'transcriptase': 89669,\n",
       " u'seleucids': 81300,\n",
       " u'ir1': 50870,\n",
       " u'ir3': 50871,\n",
       " u'lookit': 57252,\n",
       " u'ir6': 50874,\n",
       " u'lerosse': 56143,\n",
       " u'keyspace': 53854,\n",
       " u'corvair': 29943,\n",
       " u'fdnjp2': 39680,\n",
       " u'mt471144': 63636,\n",
       " u'libyan': 56483,\n",
       " u'decends': 32187,\n",
       " u'bxesd': 24867,\n",
       " u'lc4zl_': 55789,\n",
       " u'gopher': 43884,\n",
       " u'minuses': 61783,\n",
       " u'j33n': 51494,\n",
       " u'affiliated': 17189,\n",
       " u'zrcisrchz': 101075,\n",
       " u'frc': 41453,\n",
       " u'giesser': 43276,\n",
       " u'fra': 41351,\n",
       " u'9jc': 14208,\n",
       " u'frg': 41542,\n",
       " u'ejbe': 36509,\n",
       " u'9jg': 14213,\n",
       " u'frk': 41599,\n",
       " u'frj': 41598,\n",
       " u'fri': 41544,\n",
       " u'9jk': 14215,\n",
       " u'kastel': 53504,\n",
       " u'frn': 41603,\n",
       " u'9jn': 14219,\n",
       " u'communicants': 28591,\n",
       " u'bothers': 23717,\n",
       " u'frr': 41645,\n",
       " u'q6jeri4ku6h': 74357,\n",
       " u'unstick': 92202,\n",
       " u'fry': 41666,\n",
       " u'frx': 41665,\n",
       " u'h1rhse': 44975,\n",
       " u'toning': 89229,\n",
       " u'obese': 67174,\n",
       " u'obesa': 67173,\n",
       " u'spit': 84218,\n",
       " u'uos6_': 92348,\n",
       " u'jeos': 51980,\n",
       " u'if526': 48630,\n",
       " u'dxnb': 35548,\n",
       " u'spif': 84174,\n",
       " u'doubts': 34815,\n",
       " u'spin': 84190,\n",
       " u'propellants': 73384,\n",
       " u's1w7': 79690,\n",
       " u'wildcat': 96365,\n",
       " u'hqawl': 47435,\n",
       " u'1670': 3039,\n",
       " u'professionally': 73191,\n",
       " u'fr3': 41343,\n",
       " u'fr2': 41342,\n",
       " u'fr0': 41339,\n",
       " u'9j5': 14200,\n",
       " u'9j6': 14202,\n",
       " u'9j7': 14204,\n",
       " u'ble2u': 23112,\n",
       " u'excersise': 38409,\n",
       " u'1490pvf': 2751,\n",
       " u'add_window': 16792,\n",
       " u'kilcore': 54077,\n",
       " u'conditioned': 29029,\n",
       " u'bordick': 23649,\n",
       " u'destr': 33095,\n",
       " u'rw1031': 79499,\n",
       " u'waddell': 95341,\n",
       " u'conditioner': 29030,\n",
       " u'5050': 8626,\n",
       " u'kayama': 53546,\n",
       " u'ghjnuy': 43236,\n",
       " u'hone': 47089,\n",
       " u'memorial': 60755,\n",
       " u'memoriam': 60756,\n",
       " u'0wkz': 1365,\n",
       " u'kl3120': 54360,\n",
       " u'mj5e94eg9hz': 62070,\n",
       " u'honk': 47106,\n",
       " u'democracies': 32700,\n",
       " u'spews': 84144,\n",
       " u'aspipat': 19862,\n",
       " u'visitations': 94228,\n",
       " u'0wkg': 1364,\n",
       " u'ihmf1': 48730,\n",
       " u'galut': 42475,\n",
       " u'myocardial': 64339,\n",
       " u'issac': 51160,\n",
       " u'torpedoes': 89338,\n",
       " u'eradicate': 37636,\n",
       " u'zd3k8rlk': 100551,\n",
       " u'zeos': 100618,\n",
       " u'ns9ln8': 66561,\n",
       " u'qrplorplqrpl': 74818,\n",
       " u'kjzpk': 54334,\n",
       " u'vr56': 94653,\n",
       " u'academic': 16371,\n",
       " u'academia': 16369,\n",
       " u'nibby': 65706,\n",
       " u'_dcd': 14976,\n",
       " u'u9126619': 90830,\n",
       " u'corporate': 29873,\n",
       " u'massaging': 59717,\n",
       " u'nriz1z5f': 66524,\n",
       " u'zfbj': 100644,\n",
       " u'bhjnuy': 22598,\n",
       " u'bellow': 22255,\n",
       " u'absurdities': 16318,\n",
       " u'dtax': 35228,\n",
       " u'fehat8p': 39800,\n",
       " u'wszola': 97232,\n",
       " u'isodata': 51099,\n",
       " u'lasse': 55589,\n",
       " u'immeadiately': 49044,\n",
       " u'stna': 85268,\n",
       " u'p3nnk': 69194,\n",
       " u'hah': 45246,\n",
       " u'hai': 45255,\n",
       " u'haj': 45279,\n",
       " u'hak': 45286,\n",
       " u'hal': 45293,\n",
       " u'ham': 45353,\n",
       " u'han': 45414,\n",
       " u'hao': 45514,\n",
       " u'haa': 45166,\n",
       " u'hab': 45179,\n",
       " u'hac': 45199,\n",
       " u'advancement': 17005,\n",
       " u'hag': 45233,\n",
       " u'hay': 45808,\n",
       " u'mcnamara': 60264,\n",
       " u'hap': 45515,\n",
       " u'ellipses': 36734,\n",
       " u'har': 45537,\n",
       " u'x_gyx_g6': 97768,\n",
       " u'hat': 45724,\n",
       " u'hau': 45755,\n",
       " u'hav': 45771,\n",
       " u'yukawa': 100057,\n",
       " u'municipal': 63920,\n",
       " u'dingebre': 33669,\n",
       " u'elders': 36589,\n",
       " u'emerick': 36891,\n",
       " u'unequivocally': 91732,\n",
       " u'mqrr_owtu': 63359,\n",
       " u'indicative': 49571,\n",
       " u'dmotifbc': 34495,\n",
       " u'u1t6tl': 90697,\n",
       " u'rrrrr': 79187,\n",
       " u'xxpfdop1': 99161,\n",
       " u'oscilliscopes': 68523,\n",
       " u'overgrazed': 68849,\n",
       " u'armedcriminal': 19548,\n",
       " u'ha9': 45165,\n",
       " u'utilites': 92735,\n",
       " u'ha0': 45157,\n",
       " u'ha1': 45160,\n",
       " u'ha2': 45161,\n",
       " u'17mhz': 3235,\n",
       " u'misdemeanors': 61859,\n",
       " u'defragmenter': 32494,\n",
       " u'3hzrck': 7065,\n",
       " u'crowd': 30570,\n",
       " u'czech': 31307,\n",
       " u'budejovice': 24449,\n",
       " u'crown': 30578,\n",
       " u'deflection': 32478,\n",
       " u'captive': 25707,\n",
       " u'devorah': 33273,\n",
       " u'altoona': 18123,\n",
       " u'emphases': 36957,\n",
       " u'fiduciary': 40133,\n",
       " u'4m1x': 8305,\n",
       " u'deragatory': 32916,\n",
       " u'xxkc6': 99150,\n",
       " u'45zi7u': 7821,\n",
       " u'xtnsensitive': 98890,\n",
       " u'inhuman': 49919,\n",
       " u'lanstep': 55506,\n",
       " u'zd3j1': 100545,\n",
       " u'locksmithing': 57140,\n",
       " u'syphilis': 86850,\n",
       " u'completly': 28766,\n",
       " u'baxxx': 21827,\n",
       " u'dne': 34518,\n",
       " u'8yr': 13358,\n",
       " u'8ys': 13359,\n",
       " u'8yt': 13360,\n",
       " u'8yx': 13369,\n",
       " u'analitik': 18426,\n",
       " u'8yz': 13375,\n",
       " u'sqsed5': 84462,\n",
       " u'codeview': 28166,\n",
       " u'8ya': 13348,\n",
       " u'13mhz': 2545,\n",
       " u'8yd': 13350,\n",
       " u'8yg': 13352,\n",
       " u'7fn': 11903,\n",
       " u'8yj': 13353,\n",
       " u'8yk': 13354,\n",
       " u'0k83a': 1074,\n",
       " u'vasilion': 93445,\n",
       " u'moflngan': 62679,\n",
       " u'8yo': 13356,\n",
       " u'xxkcx': 99154,\n",
       " u'anomalous': 18716,\n",
       " u'malmute': 59232,\n",
       " u'8y_': 13347,\n",
       " u'benched': 22290,\n",
       " u'dmitri_kvartalnov': 34477,\n",
       " u'kilgore': 54078,\n",
       " u'szmanda': 86933,\n",
       " u'c24gc': 25021,\n",
       " u'letf75u': 56173,\n",
       " u'lemmings': 56077,\n",
       " u'mangoe': 59327,\n",
       " u'j5h8rl3': 51538,\n",
       " u'158288': 2889,\n",
       " u'honeymoon': 47099,\n",
       " u'marshalk': 59624,\n",
       " u'shooty': 82127,\n",
       " u's82': 79847,\n",
       " u'marshals': 59628,\n",
       " u's86': 79850,\n",
       " u'aspencade': 19852,\n",
       " u'shoots': 82126,\n",
       " u'5q253': 9555,\n",
       " u'despised': 33073,\n",
       " u'fabric': 39181,\n",
       " u'nightsweats': 65803,\n",
       " u'640x350': 10031,\n",
       " u'raped': 75851,\n",
       " u'grasping': 44181,\n",
       " u'5869': 9087,\n",
       " u'5868': 9086,\n",
       " u'lhzd3k8rck': 56372,\n",
       " u'rapes': 75852,\n",
       " u'fsf': 41693,\n",
       " u'5onfj': 9534,\n",
       " u's8b': 79853,\n",
       " u'precendence': 72594,\n",
       " u'40shg': 7533,\n",
       " u'q45k15o': 74284,\n",
       " u'kazemzadeh': 53558,\n",
       " u'thesaurus': 88435,\n",
       " u'go6a': 43708,\n",
       " u's8p': 79860,\n",
       " u's8q': 79861,\n",
       " u's8r': 79862,\n",
       " u'es5i': 37778,\n",
       " u's8v': 79867,\n",
       " u's8w': 79870,\n",
       " u'2yyk9': 6026,\n",
       " u's8z': 79871,\n",
       " u'algoritm': 17879,\n",
       " u'bazi': 21847,\n",
       " u'unliveable': 91993,\n",
       " u'congratulations': 29172,\n",
       " u'passsage': 69920,\n",
       " u'humbled': 47658,\n",
       " u'toolkits': 89259,\n",
       " u'rippling': 78291,\n",
       " u'220cdn': 4578,\n",
       " u'83hhr3n': 12530,\n",
       " u'scoriates': 80804,\n",
       " u'humbles': 47659,\n",
       " u'nicest': 65718,\n",
       " u'2230': 4609,\n",
       " u'soldering': 83596,\n",
       " u'univesa': 91948,\n",
       " u'ishbeld': 51041,\n",
       " u'19580': 3445,\n",
       " u'passenger': 69902,\n",
       " u'disgrace': 33971,\n",
       " u'flyback': 40800,\n",
       " u'cj1d': 27539,\n",
       " u'mirror': 61821,\n",
       " u'bhv5k': 22625,\n",
       " u'twincom': 90494,\n",
       " u'amario': 18168,\n",
       " u'cj1v': 27561,\n",
       " u'nx1600': 66800,\n",
       " u'a0c': 15773,\n",
       " u'premarin': 72748,\n",
       " u'xkc': 98262,\n",
       " u'936era': 13619,\n",
       " u'p4h': 69209,\n",
       " u'xkg': 98273,\n",
       " u'cambodia': 25487,\n",
       " u'pasadena': 69871,\n",
       " u'30f': 6124,\n",
       " u'16v6': 3115,\n",
       " u'air3qjwm': 17537,\n",
       " u'xkq': 98280,\n",
       " u'wedos': 95855,\n",
       " u'multilist': 63826,\n",
       " u't3s1ecr6': 87023,\n",
       " u'paycheque': 70079,\n",
       " u'palms': 69523,\n",
       " u'00001100b': 38,\n",
       " u'm0v3': 57975,\n",
       " u'jjjjjkbxn': 52227,\n",
       " u'xthe': 98828,\n",
       " u'overcolonized': 68825,\n",
       " u'izvimq': 51398,\n",
       " u'explosions': 38701,\n",
       " u'loren': 57298,\n",
       " u'open_remark': 68038,\n",
       " u'qmjhl': 74706,\n",
       " u'_count': 14945,\n",
       " u'shootout': 82125,\n",
       " u'80386': 12302,\n",
       " u'80387': 12306,\n",
       " u'omran': 67891,\n",
       " u'8rcs': 13206,\n",
       " u'smm': 83277,\n",
       " u'6956': 10377,\n",
       " u'unresonable': 92132,\n",
       " u'rasters': 75894,\n",
       " u'childs': 26964,\n",
       " u'b0dax': 20936,\n",
       " u'chaim': 26580,\n",
       " u'corps': 29877,\n",
       " u'egypth': 36406,\n",
       " u'people': 70437,\n",
       " u'vza2': 94919,\n",
       " u'mathewson': 59795,\n",
       " u'aspartate': 19849,\n",
       " u'embrittles': 36865,\n",
       " u'chair': 26585,\n",
       " u'6fuv2zr1': 10635,\n",
       " u'macht': 58839,\n",
       " u'ballet': 21457,\n",
       " u'amplification': 18328,\n",
       " u'grapples': 44175,\n",
       " u'foaming': 40890,\n",
       " u'themseles': 88348,\n",
       " u'precognition': 72623,\n",
       " u'machz': 58840,\n",
       " u'balled': 21455,\n",
       " u'a0000': 15762,\n",
       " u'underlining': 91609,\n",
       " u'kfij': 53883,\n",
       " u'macho': 58837,\n",
       " u'oversight': 68932,\n",
       " u'z317y0': 100252,\n",
       " u'tenacious': 87963,\n",
       " u'72plnki': 11323,\n",
       " u'jerk': 51990,\n",
       " u'jere': 51985,\n",
       " u'hitti': 46711,\n",
       " u'olympus': 67836,\n",
       " u'embark': 36837,\n",
       " u'gloomy': 43572,\n",
       " u'dyanimic': 35578,\n",
       " u'rechargable': 76411,\n",
       " u'exact': 38347,\n",
       " u'minute': 61784,\n",
       " u'preuss': 72910,\n",
       " u'uhx0': 91142,\n",
       " u'reining': 76926,\n",
       " u'_like_': 15242,\n",
       " u'skewed': 82860,\n",
       " u'qvf1ac6_': 75233,\n",
       " u'75vzlkjz728f': 11558,\n",
       " u'nastness': 64876,\n",
       " u'consititutional': 29336,\n",
       " u'dismally': 34030,\n",
       " u'multiprocessing': 63858,\n",
       " u'magupati': 59039,\n",
       " u'brent_gilchrist': 24056,\n",
       " u'xenophobe': 98035,\n",
       " u'j9hu': 51629,\n",
       " u'309': 6114,\n",
       " u'assn119': 19964,\n",
       " u'chopping': 27089,\n",
       " u'm2d1eax': 58132,\n",
       " u'bastardisation': 21752,\n",
       " u'incrementally': 49494,\n",
       " u'winecj': 96479,\n",
       " u'f9nw': 39150,\n",
       " u'bagging': 21368,\n",
       " u'xthis': 98829,\n",
       " u'79727': 11769,\n",
       " u'ww4e': 97328,\n",
       " u'antwerp': 18865,\n",
       " u'abdullah': 16171,\n",
       " u'zry': 101131,\n",
       " u'zrg': 101088,\n",
       " u'previewer': 72932,\n",
       " u'newwhj': 65561,\n",
       " u'zrd': 101084,\n",
       " u'zrb': 101059,\n",
       " u'zrm': 101119,\n",
       " u'geography': 43027,\n",
       " u'celebrates': 26310,\n",
       " u'zri': 101093,\n",
       " u'zrh': 101089,\n",
       " u'foligno': 40946,\n",
       " u'_loath_': 15249,\n",
       " u'qveid': 75224,\n",
       " u'possiblility': 72289,\n",
       " u'oldies': 67767,\n",
       " u'climbs': 27830,\n",
       " u'honour': 47116,\n",
       " u'vanderbilt': 93355,\n",
       " u'qveio': 75225,\n",
       " u'qveiq': 75227,\n",
       " u'address': 16818,\n",
       " u'307': 6103,\n",
       " u'mx4q4dv': 64234,\n",
       " u'roald': 78699,\n",
       " u'impacted': 49115,\n",
       " u'queue': 75099,\n",
       " u'staters': 84950,\n",
       " u'ww46': 97322,\n",
       " u'ww47': 97323,\n",
       " u'ww44': 97317,\n",
       " u'ww45': 97318,\n",
       " u'fsu': 41705,\n",
       " u'concatenations': 28915,\n",
       " u'influx': 49800,\n",
       " u'1k1nz': 3874,\n",
       " u'inquisitively': 50076,\n",
       " u'bigal': 22695,\n",
       " u'fakery': 39329,\n",
       " u'darnell': 31776,\n",
       " u'undergone': 91596,\n",
       " u'wroth': 97188,\n",
       " u'wand': 95467,\n",
       " u'lutr6': 57748,\n",
       " u'perished': 70540,\n",
       " u'pints': 71310,\n",
       " u'ss2fus': 84628,\n",
       " u'readability': 76211,\n",
       " u'opposed': 68116,\n",
       " u'cared': 25772,\n",
       " u'etude': 38032,\n",
       " u'_free_': 15072,\n",
       " u'dvireader': 35473,\n",
       " u'dampness': 31682,\n",
       " u'specula': 84072,\n",
       " u'consoled': 29340,\n",
       " u'alastair': 17769,\n",
       " u'shatterstar': 81885,\n",
       " u'ewxte': 38323,\n",
       " u'hawkish': 45801,\n",
       " u'approving': 19202,\n",
       " u'wvk': 97307,\n",
       " u'consoles': 29341,\n",
       " u'g9v38v': 42327,\n",
       " u'wvb': 97304,\n",
       " u'lowercase': 57396,\n",
       " u'rutherford': 79450,\n",
       " u'oscillator': 68520,\n",
       " u'pridham': 72967,\n",
       " u'mt3s1t': 63626,\n",
       " u'paramus': 69691,\n",
       " u'following': 40962,\n",
       " u'followinf': 40961,\n",
       " u'tayros': 87636,\n",
       " u'wwllww': 97369,\n",
       " u'slipcase': 83090,\n",
       " u'wmbs0t': 96739,\n",
       " u'mailboxes': 59077,\n",
       " u'p99li': 69319,\n",
       " u'q2n4': 74256,\n",
       " u'zleu': 100819,\n",
       " u'amarian': 18166,\n",
       " u'55mf7': 8949,\n",
       " u'livered': 56876,\n",
       " u'listens': 56799,\n",
       " u'hs9l': 47524,\n",
       " u'litre': 56841,\n",
       " u'clipperized': 27870,\n",
       " u'xqpfzq1aw': 98560,\n",
       " u'kjr8': 54268,\n",
       " u'b36wi': 20990,\n",
       " u'pietila': 71192,\n",
       " u'kjr7': 54267,\n",
       " u'irck': 50895,\n",
       " u'atmospherique': 20187,\n",
       " ...}"
      ]
     },
     "execution_count": 13,
     "metadata": {},
     "output_type": "execute_result"
    }
   ],
   "source": [
    "vectorizer.vocabulary_"
   ]
  },
  {
   "cell_type": "code",
   "execution_count": 14,
   "metadata": {
    "collapsed": false
   },
   "outputs": [
    {
     "data": {
      "text/plain": [
       "<1x101323 sparse matrix of type '<type 'numpy.int64'>'\n",
       "\twith 34 stored elements in Compressed Sparse Row format>"
      ]
     },
     "execution_count": 14,
     "metadata": {},
     "output_type": "execute_result"
    }
   ],
   "source": [
    "X_train[0, :]"
   ]
  },
  {
   "cell_type": "code",
   "execution_count": 15,
   "metadata": {
    "collapsed": false
   },
   "outputs": [
    {
     "data": {
      "text/plain": [
       "matrix([[0, 0, 0, ..., 0, 0, 0]])"
      ]
     },
     "execution_count": 15,
     "metadata": {},
     "output_type": "execute_result"
    }
   ],
   "source": [
    "X_train[0, :].todense()"
   ]
  },
  {
   "cell_type": "code",
   "execution_count": 16,
   "metadata": {
    "collapsed": false
   },
   "outputs": [
    {
     "data": {
      "text/plain": [
       "array([ 9843, 11174, 16806, 23430, 24108, 24583, 25437, 25717, 31927,\n",
       "       34741, 34742, 35902, 37208, 37256, 41875, 46691, 49801, 54494,\n",
       "       55607, 57248, 57251, 59072, 62595, 73175, 76270, 77677, 80421,\n",
       "       81451, 83209, 84051, 84313, 87914, 96880, 99609])"
      ]
     },
     "execution_count": 16,
     "metadata": {},
     "output_type": "execute_result"
    }
   ],
   "source": [
    "non_zeroes = np.array(np.where(X_train[0, :].todense())[1])[0]\n",
    "non_zeroes"
   ]
  },
  {
   "cell_type": "markdown",
   "metadata": {},
   "source": [
    "Let's define a function that will take a list of indices and print the words from the vocabulary dictionary that correspond to those indices:"
   ]
  },
  {
   "cell_type": "code",
   "execution_count": 17,
   "metadata": {
    "collapsed": false
   },
   "outputs": [],
   "source": [
    "def print_words(index_list):\n",
    "    for word, index in vectorizer.vocabulary_.iteritems():\n",
    "        if index in index_list:\n",
    "            print word"
   ]
  },
  {
   "cell_type": "code",
   "execution_count": 18,
   "metadata": {
    "collapsed": false
   },
   "outputs": [
    {
     "name": "stdout",
     "output_type": "stream",
     "text": [
      "production\n",
      "60s\n",
      "years\n",
      "addition\n",
      "late\n",
      "doors\n",
      "car\n",
      "history\n",
      "engine\n",
      "really\n",
      "early\n",
      "info\n",
      "mail\n",
      "body\n",
      "separate\n",
      "small\n",
      "door\n",
      "tellme\n",
      "enlighten\n",
      "wondering\n",
      "bricklin\n",
      "model\n",
      "looked\n",
      "bumper\n",
      "rest\n",
      "specs\n",
      "looking\n",
      "funky\n",
      "70s\n",
      "sports\n",
      "saw\n",
      "day\n",
      "called\n",
      "know\n"
     ]
    }
   ],
   "source": [
    "print_words(non_zeroes)"
   ]
  },
  {
   "cell_type": "markdown",
   "metadata": {},
   "source": [
    "Let's train a linear, penalized SVM:"
   ]
  },
  {
   "cell_type": "code",
   "execution_count": 19,
   "metadata": {
    "collapsed": false
   },
   "outputs": [
    {
     "data": {
      "text/plain": [
       "LinearSVC(C=1.0, class_weight=None, dual=True, fit_intercept=True,\n",
       "     intercept_scaling=1, loss='squared_hinge', max_iter=1000,\n",
       "     multi_class='ovr', penalty='l2', random_state=None, tol=0.0001,\n",
       "     verbose=0)"
      ]
     },
     "execution_count": 19,
     "metadata": {},
     "output_type": "execute_result"
    }
   ],
   "source": [
    "svm = LinearSVC(penalty='l2', C=1.0)\n",
    "svm.fit(X_train, space_target)"
   ]
  },
  {
   "cell_type": "markdown",
   "metadata": {},
   "source": [
    "One way to see what the SVM is doing is to look at the coefficients of each word, and to sort them from largest to smallest.  This will tell us which words are most associated with \"space\" in the posts:"
   ]
  },
  {
   "cell_type": "code",
   "execution_count": 20,
   "metadata": {
    "collapsed": false
   },
   "outputs": [
    {
     "data": {
      "text/plain": [
       "array([42840, 48693, 96932, 30980, 93420, 27080, 71056, 83584, 80644,\n",
       "       95447, 29442, 47333, 55654, 28346, 77661, 37981, 91338, 83872,\n",
       "       15403, 68248, 24029, 83877, 92377, 81989, 50931])"
      ]
     },
     "execution_count": 20,
     "metadata": {},
     "output_type": "execute_result"
    }
   ],
   "source": [
    "top25 = np.argsort(svm.coef_.ravel())[-25:]\n",
    "top25"
   ]
  },
  {
   "cell_type": "code",
   "execution_count": 21,
   "metadata": {
    "collapsed": false
   },
   "outputs": [
    {
     "data": {
      "text/plain": [
       "array([ 0.53487214,  0.54169839,  0.55660281,  0.55660281,  0.55681456,\n",
       "        0.56964216,  0.57439219,  0.59390562,  0.60548203,  0.60548203,\n",
       "        0.61959648,  0.62138519,  0.62614888,  0.62898511,  0.63078862,\n",
       "        0.64214407,  0.64225706,  0.65832389,  0.6836881 ,  0.71416375,\n",
       "        0.72071986,  0.76822853,  0.90616237,  0.94590997,  1.25477519])"
      ]
     },
     "execution_count": 21,
     "metadata": {},
     "output_type": "execute_result"
    }
   ],
   "source": [
    "svm.coef_.ravel()[top25]"
   ]
  },
  {
   "cell_type": "code",
   "execution_count": 22,
   "metadata": {
    "collapsed": false
   },
   "outputs": [
    {
     "name": "stdout",
     "output_type": "stream",
     "text": [
      "colonies\n",
      "gee\n",
      "schirra\n",
      "space\n",
      "breathing\n",
      "wally\n",
      "launch\n",
      "varieties\n",
      "choose\n",
      "update\n",
      "orbit\n",
      "_perijoves_\n",
      "umm\n",
      "ironic\n",
      "hover\n",
      "sherzer\n",
      "responses\n",
      "contacting\n",
      "ignorant\n",
      "curiousity\n",
      "spacecraft\n",
      "photosynthetic\n",
      "worden\n",
      "solar\n",
      "ether\n"
     ]
    }
   ],
   "source": [
    "print_words(top25)"
   ]
  },
  {
   "cell_type": "markdown",
   "metadata": {},
   "source": [
    "[http://en.wikipedia.org/wiki/Wally_Schirra](http://en.wikipedia.org/wiki/Wally_Schirra)"
   ]
  },
  {
   "cell_type": "markdown",
   "metadata": {},
   "source": [
    "Let's see how we do on a test set:"
   ]
  },
  {
   "cell_type": "code",
   "execution_count": 23,
   "metadata": {
    "collapsed": false
   },
   "outputs": [],
   "source": [
    "preds = svm.predict(X_test)"
   ]
  },
  {
   "cell_type": "code",
   "execution_count": 24,
   "metadata": {
    "collapsed": false
   },
   "outputs": [
    {
     "data": {
      "text/html": [
       "<div>\n",
       "<table border=\"1\" class=\"dataframe\">\n",
       "  <thead>\n",
       "    <tr style=\"text-align: right;\">\n",
       "      <th>Predicted</th>\n",
       "      <th>0</th>\n",
       "      <th>1</th>\n",
       "    </tr>\n",
       "    <tr>\n",
       "      <th>True</th>\n",
       "      <th></th>\n",
       "      <th></th>\n",
       "    </tr>\n",
       "  </thead>\n",
       "  <tbody>\n",
       "    <tr>\n",
       "      <th>0</th>\n",
       "      <td>7055</td>\n",
       "      <td>83</td>\n",
       "    </tr>\n",
       "    <tr>\n",
       "      <th>1</th>\n",
       "      <td>178</td>\n",
       "      <td>216</td>\n",
       "    </tr>\n",
       "  </tbody>\n",
       "</table>\n",
       "</div>"
      ],
      "text/plain": [
       "Predicted     0    1\n",
       "True                \n",
       "0          7055   83\n",
       "1           178  216"
      ]
     },
     "execution_count": 24,
     "metadata": {},
     "output_type": "execute_result"
    }
   ],
   "source": [
    "pd.crosstab(index=space_target_test, columns=preds, rownames=['True'], colnames=['Predicted'])"
   ]
  },
  {
   "cell_type": "code",
   "execution_count": null,
   "metadata": {
    "collapsed": false
   },
   "outputs": [],
   "source": []
  }
 ],
 "metadata": {
  "kernelspec": {
   "display_name": "Python 2",
   "language": "python",
   "name": "python2"
  },
  "language_info": {
   "codemirror_mode": {
    "name": "ipython",
    "version": 2
   },
   "file_extension": ".py",
   "mimetype": "text/x-python",
   "name": "python",
   "nbconvert_exporter": "python",
   "pygments_lexer": "ipython2",
   "version": "2.7.6"
  }
 },
 "nbformat": 4,
 "nbformat_minor": 0
}
